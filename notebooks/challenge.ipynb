{
 "cells": [
  {
   "cell_type": "markdown",
   "metadata": {},
   "source": [
    "# Descripción del ejercicio\n",
    "\n",
    "En el contexto del *Marketplace* de **Mercado Libre**, se requiere un algoritmo de *Machine Learning* que permita **predecir si un artículo listado es nuevo o usado**.\n",
    "\n",
    "## Objetivo\n",
    "\n",
    "Diseñar, entrenar y evaluar un modelo de clasificación binaria que determine la condición del artículo (nuevo vs usado) utilizando datos estructurados disponibles en el archivo `MLA_100k.jsonlines`.\n",
    "\n",
    "## Recursos proporcionados\n",
    "\n",
    "- Un conjunto de datos en formato `.jsonlines` (`MLA_100k.jsonlines`) con información de publicaciones de productos.\n",
    "- Una función auxiliar llamada `build_dataset` para la lectura y construcción del *dataset*.\n",
    "\n",
    "## Requisitos de la tarea\n",
    "\n",
    "- Preprocesar y analizar los datos.\n",
    "- Entrenar un modelo de clasificación supervisada.\n",
    "- Evaluar el rendimiento del modelo utilizando una **métrica adecuada**.\n",
    "- Justificar la elección de dicha métrica de evaluación.\n",
    "\n",
    "## Entregables\n",
    "\n",
    "- Un archivo `.ipynb` que incluya: \n",
    "  - El **flujo de procesamiento**, desde la lectura de los datos hasta la evaluación final del modelo.\n",
    "  - Una **explicación breve sobre la métrica de evaluación elegida**.\n",
    "  - El **resultado alcanzado** por el modelo usando esa métrica.\n",
    "\n",
    "## Consideraciones\n",
    "\n",
    "Para este proyecto estoy usando Python 3.12.2 \n"
   ]
  },
  {
   "cell_type": "markdown",
   "metadata": {},
   "source": [
    "# Separación de conjunto de train y test"
   ]
  },
  {
   "cell_type": "code",
   "execution_count": 2,
   "metadata": {},
   "outputs": [],
   "source": [
    "# Importo las librerias que estaré utilizando \n",
    "import pandas as pd\n",
    "import numpy as np\n",
    "import json\n",
    "\n",
    "import seaborn as sns\n",
    "import matplotlib.pyplot as plt\n",
    "\n",
    "from xgboost import XGBClassifier\n",
    "from sklearn.model_selection import GridSearchCV\n",
    "from sklearn.metrics import roc_auc_score, recall_score, precision_score, f1_score\n"
   ]
  },
  {
   "cell_type": "code",
   "execution_count": 3,
   "metadata": {},
   "outputs": [],
   "source": [
    "pd.options.display.max_columns=None"
   ]
  },
  {
   "cell_type": "markdown",
   "metadata": {},
   "source": [
    "Uso la función build_dataset() contenida en new_or_used.py"
   ]
  },
  {
   "cell_type": "code",
   "execution_count": 6,
   "metadata": {},
   "outputs": [],
   "source": [
    "def build_dataset():\n",
    "    data = [json.loads(x) for x in open(\"../data/MLA_100k.jsonlines\")]\n",
    "    target = lambda x: x.get(\"condition\")\n",
    "    N = -10000\n",
    "    X_train = data[:N]\n",
    "    X_test = data[N:]\n",
    "    y_train = [target(x) for x in X_train]\n",
    "    y_test = [target(x) for x in X_test]\n",
    "    for x in X_test:\n",
    "        del x[\"condition\"]\n",
    "    return X_train, y_train, X_test, y_test"
   ]
  },
  {
   "cell_type": "code",
   "execution_count": 7,
   "metadata": {},
   "outputs": [],
   "source": [
    "X_train, y_train, X_test, y_test = build_dataset()"
   ]
  },
  {
   "cell_type": "markdown",
   "metadata": {},
   "source": [
    "# Exploración de los datos (EDA)"
   ]
  },
  {
   "cell_type": "markdown",
   "metadata": {},
   "source": [
    "La primero que hare será extraer la información de las columnas que aun estan en formato json"
   ]
  },
  {
   "cell_type": "code",
   "execution_count": 8,
   "metadata": {},
   "outputs": [],
   "source": [
    "# Convertir X_train a DataFrame\n",
    "df_train = pd.DataFrame(X_train)\n",
    "\n",
    "# Agregar la columna de etiquetas\n",
    "df_train[\"condition\"] = y_train\n",
    "\n",
    "# 1. seller_address - extraer ciudad, estado y país\n",
    "df_train['state_name'] = df_train['seller_address'].apply(lambda x: x.get('state', {}).get('name'))\n",
    "df_train['city_name'] = df_train['seller_address'].apply(lambda x: x.get('city', {}).get('name'))\n",
    "df_train['country'] = df_train['seller_address'].apply(lambda x: x.get('country', {}).get('name'))\n",
    "\n",
    "# 2. shipping - extraer si tiene envío gratis y si permite retiro local\n",
    "df_train['free_shipping'] = df_train['shipping'].apply(lambda x: x.get('free_shipping'))\n",
    "df_train['local_pick_up'] = df_train['shipping'].apply(lambda x: x.get('local_pick_up'))\n",
    "\n",
    "# 3. non_mercado_pago_payment_methods - número de métodos distintos\n",
    "df_train['num_payment_methods'] = df_train['non_mercado_pago_payment_methods'].apply(len)\n",
    "\n",
    "# 4. descriptions - tiene descripción o no\n",
    "df_train['has_description'] = df_train['descriptions'].apply(lambda x: len(x) > 0)\n",
    "\n",
    "# 5. pictures - cuántas imágenes tiene\n",
    "df_train['num_pictures'] = df_train['pictures'].apply(len)\n",
    "\n",
    "# 6. geolocation - lat y lon\n",
    "df_train['latitude'] = df_train['geolocation'].apply(lambda x: x.get('latitude'))\n",
    "df_train['longitude'] = df_train['geolocation'].apply(lambda x: x.get('longitude'))\n",
    "\n",
    "# 7. variaciones\n",
    "df_train[\"num_variations\"] = df_train[\"variations\"].apply(len)\n",
    "df_train[\"has_variations\"] = df_train[\"num_variations\"] > 0\n",
    "\n",
    "# 8. atributos clave desde la columna attributes\n",
    "def extract_value(attr_list, key):\n",
    "    for att in attr_list:\n",
    "        if att.get(\"name\") == key:\n",
    "            return att.get(\"value_name\")\n",
    "    return None\n",
    "\n",
    "df_train[\"gender\"] = df_train[\"attributes\"].apply(lambda x: extract_value(x, \"Género\"))\n",
    "df_train[\"season\"] = df_train[\"attributes\"].apply(lambda x: extract_value(x, \"Season\"))\n",
    "df_train[\"brand\"] = df_train[\"attributes\"].apply(lambda x: extract_value(x, \"Marca\"))\n",
    "df_train[\"color\"] = df_train[\"attributes\"].apply(lambda x: extract_value(x, \"Color\"))\n",
    "df_train[\"model\"] = df_train[\"attributes\"].apply(lambda x: extract_value(x, \"Modelo\"))\n",
    "df_train[\"main_material\"] = df_train[\"attributes\"].apply(lambda x: extract_value(x, \"Material principal\"))\n",
    "\n",
    "# 9. Codificar condición como variable binaria\n",
    "df_train[\"condition\"] = df_train[\"condition\"].apply(lambda x: 1 if x == \"new\" else 0)\n",
    "\n",
    "# 10. Aplanar sub_status\n",
    "df_train['sub_status'] = df_train['sub_status'].apply(\n",
    "    lambda x: '_'.join(x) if isinstance(x, list) and len(x) > 0 else 'sin_substatus'\n",
    ")\n",
    "\n",
    "# 11. Aplanar deal_ids\n",
    "df_train['deal_ids'] = df_train['deal_ids'].apply(\n",
    "    lambda x: '_'.join(x) if isinstance(x, list) and len(x) > 0 else 'sin_deal_ids'\n",
    ")\n",
    "\n",
    "# 12. tags\n",
    "df_train['tags'] = df_train['tags'].apply(\n",
    "    lambda x: '_'.join(x) if isinstance(x, list) and len(x) > 0 else 'sin_tag'\n",
    ")\n",
    "\n",
    "# 13. date_created\n",
    "df_train['date_created'] = pd.to_datetime(df_train['date_created'])\n",
    "\n",
    "# Crear nuevas columnas\n",
    "df_train['created_hour'] = df_train['date_created'].dt.hour\n",
    "df_train['created_weekday'] = df_train['date_created'].dt.dayofweek   # 0 = lunes\n",
    "\n",
    "# Elimino columnas anidadas originales\n",
    "df_train = df_train.drop(columns=[\n",
    "    'seller_address',\n",
    "    'shipping',\n",
    "    'non_mercado_pago_payment_methods',\n",
    "    'descriptions',\n",
    "    'pictures',\n",
    "    'geolocation',\n",
    "    'attributes',\n",
    "    'variations'\n",
    "])\n"
   ]
  },
  {
   "cell_type": "markdown",
   "metadata": {},
   "source": [
    "Visualizo al conjunto de datos para ver si todas las columnas ya tienen un formato adecuado para su uso en el modelo."
   ]
  },
  {
   "cell_type": "code",
   "execution_count": 9,
   "metadata": {},
   "outputs": [
    {
     "data": {
      "text/html": [
       "<div>\n",
       "<style scoped>\n",
       "    .dataframe tbody tr th:only-of-type {\n",
       "        vertical-align: middle;\n",
       "    }\n",
       "\n",
       "    .dataframe tbody tr th {\n",
       "        vertical-align: top;\n",
       "    }\n",
       "\n",
       "    .dataframe thead th {\n",
       "        text-align: right;\n",
       "    }\n",
       "</style>\n",
       "<table border=\"1\" class=\"dataframe\">\n",
       "  <thead>\n",
       "    <tr style=\"text-align: right;\">\n",
       "      <th></th>\n",
       "      <th>warranty</th>\n",
       "      <th>sub_status</th>\n",
       "      <th>condition</th>\n",
       "      <th>seller_contact</th>\n",
       "      <th>deal_ids</th>\n",
       "      <th>base_price</th>\n",
       "      <th>seller_id</th>\n",
       "      <th>location</th>\n",
       "      <th>site_id</th>\n",
       "      <th>listing_type_id</th>\n",
       "      <th>price</th>\n",
       "      <th>buying_mode</th>\n",
       "      <th>tags</th>\n",
       "      <th>listing_source</th>\n",
       "      <th>parent_item_id</th>\n",
       "      <th>coverage_areas</th>\n",
       "      <th>category_id</th>\n",
       "      <th>last_updated</th>\n",
       "      <th>international_delivery_mode</th>\n",
       "      <th>id</th>\n",
       "      <th>official_store_id</th>\n",
       "      <th>differential_pricing</th>\n",
       "      <th>accepts_mercadopago</th>\n",
       "      <th>original_price</th>\n",
       "      <th>currency_id</th>\n",
       "      <th>thumbnail</th>\n",
       "      <th>title</th>\n",
       "      <th>automatic_relist</th>\n",
       "      <th>date_created</th>\n",
       "      <th>secure_thumbnail</th>\n",
       "      <th>stop_time</th>\n",
       "      <th>status</th>\n",
       "      <th>video_id</th>\n",
       "      <th>catalog_product_id</th>\n",
       "      <th>subtitle</th>\n",
       "      <th>initial_quantity</th>\n",
       "      <th>start_time</th>\n",
       "      <th>permalink</th>\n",
       "      <th>sold_quantity</th>\n",
       "      <th>available_quantity</th>\n",
       "      <th>state_name</th>\n",
       "      <th>city_name</th>\n",
       "      <th>country</th>\n",
       "      <th>free_shipping</th>\n",
       "      <th>local_pick_up</th>\n",
       "      <th>num_payment_methods</th>\n",
       "      <th>has_description</th>\n",
       "      <th>num_pictures</th>\n",
       "      <th>latitude</th>\n",
       "      <th>longitude</th>\n",
       "      <th>num_variations</th>\n",
       "      <th>has_variations</th>\n",
       "      <th>gender</th>\n",
       "      <th>season</th>\n",
       "      <th>brand</th>\n",
       "      <th>color</th>\n",
       "      <th>model</th>\n",
       "      <th>main_material</th>\n",
       "      <th>created_hour</th>\n",
       "      <th>created_weekday</th>\n",
       "    </tr>\n",
       "  </thead>\n",
       "  <tbody>\n",
       "    <tr>\n",
       "      <th>0</th>\n",
       "      <td>None</td>\n",
       "      <td>sin_substatus</td>\n",
       "      <td>1</td>\n",
       "      <td>None</td>\n",
       "      <td>sin_deal_ids</td>\n",
       "      <td>80.0</td>\n",
       "      <td>74952096</td>\n",
       "      <td>{}</td>\n",
       "      <td>MLA</td>\n",
       "      <td>bronze</td>\n",
       "      <td>80.0</td>\n",
       "      <td>buy_it_now</td>\n",
       "      <td>dragged_bids_and_visits</td>\n",
       "      <td></td>\n",
       "      <td>MLA568261029</td>\n",
       "      <td>[]</td>\n",
       "      <td>MLA126406</td>\n",
       "      <td>2015-09-05T20:42:58.000Z</td>\n",
       "      <td>none</td>\n",
       "      <td>MLA578052519</td>\n",
       "      <td>NaN</td>\n",
       "      <td>None</td>\n",
       "      <td>True</td>\n",
       "      <td>NaN</td>\n",
       "      <td>ARS</td>\n",
       "      <td>http://mla-s1-p.mlstatic.com/5386-MLA435206787...</td>\n",
       "      <td>Auriculares Samsung Originales Manos Libres Ca...</td>\n",
       "      <td>False</td>\n",
       "      <td>2015-09-05 20:42:53+00:00</td>\n",
       "      <td>https://a248.e.akamai.net/mla-s1-p.mlstatic.co...</td>\n",
       "      <td>2015-11-04T20:42:53.000Z</td>\n",
       "      <td>active</td>\n",
       "      <td>None</td>\n",
       "      <td>NaN</td>\n",
       "      <td>None</td>\n",
       "      <td>1</td>\n",
       "      <td>2015-09-05T20:42:53.000Z</td>\n",
       "      <td>http://articulo.mercadolibre.com.ar/MLA-578052...</td>\n",
       "      <td>0</td>\n",
       "      <td>1</td>\n",
       "      <td>Capital Federal</td>\n",
       "      <td>San Cristóbal</td>\n",
       "      <td>Argentina</td>\n",
       "      <td>False</td>\n",
       "      <td>True</td>\n",
       "      <td>3</td>\n",
       "      <td>True</td>\n",
       "      <td>2</td>\n",
       "      <td>-34.62807</td>\n",
       "      <td>-58.398671</td>\n",
       "      <td>0</td>\n",
       "      <td>False</td>\n",
       "      <td>None</td>\n",
       "      <td>None</td>\n",
       "      <td>None</td>\n",
       "      <td>None</td>\n",
       "      <td>None</td>\n",
       "      <td>None</td>\n",
       "      <td>20</td>\n",
       "      <td>5</td>\n",
       "    </tr>\n",
       "    <tr>\n",
       "      <th>1</th>\n",
       "      <td>NUESTRA REPUTACION</td>\n",
       "      <td>sin_substatus</td>\n",
       "      <td>0</td>\n",
       "      <td>None</td>\n",
       "      <td>sin_deal_ids</td>\n",
       "      <td>2650.0</td>\n",
       "      <td>42093335</td>\n",
       "      <td>{}</td>\n",
       "      <td>MLA</td>\n",
       "      <td>silver</td>\n",
       "      <td>2650.0</td>\n",
       "      <td>buy_it_now</td>\n",
       "      <td>sin_tag</td>\n",
       "      <td></td>\n",
       "      <td>MLA561574487</td>\n",
       "      <td>[]</td>\n",
       "      <td>MLA10267</td>\n",
       "      <td>2015-09-26T18:08:34.000Z</td>\n",
       "      <td>none</td>\n",
       "      <td>MLA581565358</td>\n",
       "      <td>NaN</td>\n",
       "      <td>None</td>\n",
       "      <td>True</td>\n",
       "      <td>NaN</td>\n",
       "      <td>ARS</td>\n",
       "      <td>http://mla-s1-p.mlstatic.com/23223-MLA20245018...</td>\n",
       "      <td>Cuchillo Daga Acero Carbón Casco Yelmo Solinge...</td>\n",
       "      <td>False</td>\n",
       "      <td>2015-09-26 18:08:30+00:00</td>\n",
       "      <td>https://a248.e.akamai.net/mla-s1-p.mlstatic.co...</td>\n",
       "      <td>2015-11-25T18:08:30.000Z</td>\n",
       "      <td>active</td>\n",
       "      <td>None</td>\n",
       "      <td>NaN</td>\n",
       "      <td>None</td>\n",
       "      <td>1</td>\n",
       "      <td>2015-09-26T18:08:30.000Z</td>\n",
       "      <td>http://articulo.mercadolibre.com.ar/MLA-581565...</td>\n",
       "      <td>0</td>\n",
       "      <td>1</td>\n",
       "      <td>Capital Federal</td>\n",
       "      <td>Buenos Aires</td>\n",
       "      <td>Argentina</td>\n",
       "      <td>False</td>\n",
       "      <td>True</td>\n",
       "      <td>2</td>\n",
       "      <td>True</td>\n",
       "      <td>6</td>\n",
       "      <td>-34.593552</td>\n",
       "      <td>-58.505917</td>\n",
       "      <td>0</td>\n",
       "      <td>False</td>\n",
       "      <td>None</td>\n",
       "      <td>None</td>\n",
       "      <td>None</td>\n",
       "      <td>None</td>\n",
       "      <td>None</td>\n",
       "      <td>None</td>\n",
       "      <td>18</td>\n",
       "      <td>5</td>\n",
       "    </tr>\n",
       "    <tr>\n",
       "      <th>2</th>\n",
       "      <td>None</td>\n",
       "      <td>sin_substatus</td>\n",
       "      <td>0</td>\n",
       "      <td>None</td>\n",
       "      <td>sin_deal_ids</td>\n",
       "      <td>60.0</td>\n",
       "      <td>133384258</td>\n",
       "      <td>{}</td>\n",
       "      <td>MLA</td>\n",
       "      <td>bronze</td>\n",
       "      <td>60.0</td>\n",
       "      <td>buy_it_now</td>\n",
       "      <td>dragged_bids_and_visits</td>\n",
       "      <td></td>\n",
       "      <td>MLA568881256</td>\n",
       "      <td>[]</td>\n",
       "      <td>MLA1227</td>\n",
       "      <td>2015-09-09T23:57:10.000Z</td>\n",
       "      <td>none</td>\n",
       "      <td>MLA578780872</td>\n",
       "      <td>NaN</td>\n",
       "      <td>None</td>\n",
       "      <td>True</td>\n",
       "      <td>NaN</td>\n",
       "      <td>ARS</td>\n",
       "      <td>http://mla-s1-p.mlstatic.com/22076-MLA20223367...</td>\n",
       "      <td>Antigua Revista Billiken, N° 1826, Año 1954</td>\n",
       "      <td>False</td>\n",
       "      <td>2015-09-09 23:57:07+00:00</td>\n",
       "      <td>https://a248.e.akamai.net/mla-s1-p.mlstatic.co...</td>\n",
       "      <td>2015-11-08T23:57:07.000Z</td>\n",
       "      <td>active</td>\n",
       "      <td>None</td>\n",
       "      <td>NaN</td>\n",
       "      <td>None</td>\n",
       "      <td>1</td>\n",
       "      <td>2015-09-09T23:57:07.000Z</td>\n",
       "      <td>http://articulo.mercadolibre.com.ar/MLA-578780...</td>\n",
       "      <td>0</td>\n",
       "      <td>1</td>\n",
       "      <td>Capital Federal</td>\n",
       "      <td>Boedo</td>\n",
       "      <td>Argentina</td>\n",
       "      <td>False</td>\n",
       "      <td>True</td>\n",
       "      <td>3</td>\n",
       "      <td>True</td>\n",
       "      <td>1</td>\n",
       "      <td>-34.623391</td>\n",
       "      <td>-58.414395</td>\n",
       "      <td>0</td>\n",
       "      <td>False</td>\n",
       "      <td>None</td>\n",
       "      <td>None</td>\n",
       "      <td>None</td>\n",
       "      <td>None</td>\n",
       "      <td>None</td>\n",
       "      <td>None</td>\n",
       "      <td>23</td>\n",
       "      <td>2</td>\n",
       "    </tr>\n",
       "    <tr>\n",
       "      <th>3</th>\n",
       "      <td>None</td>\n",
       "      <td>sin_substatus</td>\n",
       "      <td>1</td>\n",
       "      <td>None</td>\n",
       "      <td>sin_deal_ids</td>\n",
       "      <td>580.0</td>\n",
       "      <td>143001605</td>\n",
       "      <td>{}</td>\n",
       "      <td>MLA</td>\n",
       "      <td>silver</td>\n",
       "      <td>580.0</td>\n",
       "      <td>buy_it_now</td>\n",
       "      <td>sin_tag</td>\n",
       "      <td></td>\n",
       "      <td>None</td>\n",
       "      <td>[]</td>\n",
       "      <td>MLA86345</td>\n",
       "      <td>2015-10-05T16:03:50.306Z</td>\n",
       "      <td>none</td>\n",
       "      <td>MLA581877385</td>\n",
       "      <td>NaN</td>\n",
       "      <td>None</td>\n",
       "      <td>True</td>\n",
       "      <td>NaN</td>\n",
       "      <td>ARS</td>\n",
       "      <td>http://mla-s2-p.mlstatic.com/183901-MLA2043288...</td>\n",
       "      <td>Alarma Guardtex Gx412 Seguridad Para El Automo...</td>\n",
       "      <td>False</td>\n",
       "      <td>2015-09-28 18:47:56+00:00</td>\n",
       "      <td>https://a248.e.akamai.net/mla-s2-p.mlstatic.co...</td>\n",
       "      <td>2015-12-04T01:13:16.000Z</td>\n",
       "      <td>active</td>\n",
       "      <td>None</td>\n",
       "      <td>NaN</td>\n",
       "      <td>None</td>\n",
       "      <td>1</td>\n",
       "      <td>2015-09-28T18:47:56.000Z</td>\n",
       "      <td>http://articulo.mercadolibre.com.ar/MLA-581877...</td>\n",
       "      <td>0</td>\n",
       "      <td>1</td>\n",
       "      <td>Capital Federal</td>\n",
       "      <td>Floresta</td>\n",
       "      <td>Argentina</td>\n",
       "      <td>False</td>\n",
       "      <td>True</td>\n",
       "      <td>3</td>\n",
       "      <td>True</td>\n",
       "      <td>2</td>\n",
       "      <td>-34.628189</td>\n",
       "      <td>-58.492921</td>\n",
       "      <td>0</td>\n",
       "      <td>False</td>\n",
       "      <td>None</td>\n",
       "      <td>None</td>\n",
       "      <td>None</td>\n",
       "      <td>None</td>\n",
       "      <td>None</td>\n",
       "      <td>None</td>\n",
       "      <td>18</td>\n",
       "      <td>0</td>\n",
       "    </tr>\n",
       "    <tr>\n",
       "      <th>4</th>\n",
       "      <td>MI REPUTACION.</td>\n",
       "      <td>sin_substatus</td>\n",
       "      <td>0</td>\n",
       "      <td>None</td>\n",
       "      <td>sin_deal_ids</td>\n",
       "      <td>30.0</td>\n",
       "      <td>96873449</td>\n",
       "      <td>{}</td>\n",
       "      <td>MLA</td>\n",
       "      <td>bronze</td>\n",
       "      <td>30.0</td>\n",
       "      <td>buy_it_now</td>\n",
       "      <td>dragged_bids_and_visits</td>\n",
       "      <td></td>\n",
       "      <td>MLA566354576</td>\n",
       "      <td>[]</td>\n",
       "      <td>MLA41287</td>\n",
       "      <td>2015-08-28T13:37:41.000Z</td>\n",
       "      <td>none</td>\n",
       "      <td>MLA576112692</td>\n",
       "      <td>NaN</td>\n",
       "      <td>None</td>\n",
       "      <td>True</td>\n",
       "      <td>NaN</td>\n",
       "      <td>ARS</td>\n",
       "      <td>http://mla-s2-p.mlstatic.com/13595-MLA13041807...</td>\n",
       "      <td>Serenata - Jennifer Blake</td>\n",
       "      <td>False</td>\n",
       "      <td>2015-08-24 22:07:20+00:00</td>\n",
       "      <td>https://a248.e.akamai.net/mla-s2-p.mlstatic.co...</td>\n",
       "      <td>2015-10-23T22:07:20.000Z</td>\n",
       "      <td>active</td>\n",
       "      <td>None</td>\n",
       "      <td>NaN</td>\n",
       "      <td>None</td>\n",
       "      <td>1</td>\n",
       "      <td>2015-08-24T22:07:20.000Z</td>\n",
       "      <td>http://articulo.mercadolibre.com.ar/MLA-576112...</td>\n",
       "      <td>0</td>\n",
       "      <td>1</td>\n",
       "      <td>Buenos Aires</td>\n",
       "      <td>Tres de febrero</td>\n",
       "      <td>Argentina</td>\n",
       "      <td>False</td>\n",
       "      <td>True</td>\n",
       "      <td>3</td>\n",
       "      <td>True</td>\n",
       "      <td>2</td>\n",
       "      <td>-34.634655</td>\n",
       "      <td>-58.549504</td>\n",
       "      <td>0</td>\n",
       "      <td>False</td>\n",
       "      <td>None</td>\n",
       "      <td>None</td>\n",
       "      <td>None</td>\n",
       "      <td>None</td>\n",
       "      <td>None</td>\n",
       "      <td>None</td>\n",
       "      <td>22</td>\n",
       "      <td>0</td>\n",
       "    </tr>\n",
       "    <tr>\n",
       "      <th>5</th>\n",
       "      <td>Sí</td>\n",
       "      <td>sin_substatus</td>\n",
       "      <td>1</td>\n",
       "      <td>None</td>\n",
       "      <td>sin_deal_ids</td>\n",
       "      <td>310.0</td>\n",
       "      <td>93122911</td>\n",
       "      <td>{}</td>\n",
       "      <td>MLA</td>\n",
       "      <td>bronze</td>\n",
       "      <td>310.0</td>\n",
       "      <td>buy_it_now</td>\n",
       "      <td>dragged_bids_and_visits</td>\n",
       "      <td></td>\n",
       "      <td>MLA562683364</td>\n",
       "      <td>[]</td>\n",
       "      <td>MLA1429</td>\n",
       "      <td>2015-08-30T14:24:09.000Z</td>\n",
       "      <td>none</td>\n",
       "      <td>MLA576999902</td>\n",
       "      <td>NaN</td>\n",
       "      <td>None</td>\n",
       "      <td>True</td>\n",
       "      <td>NaN</td>\n",
       "      <td>ARS</td>\n",
       "      <td>http://mla-s2-p.mlstatic.com/6207-MLA87256964_...</td>\n",
       "      <td>Clavo De Olor(*1/2)  Grano Origen Turquia</td>\n",
       "      <td>False</td>\n",
       "      <td>2015-08-30 14:24:02+00:00</td>\n",
       "      <td>https://a248.e.akamai.net/mla-s2-p.mlstatic.co...</td>\n",
       "      <td>2015-10-29T14:24:01.000Z</td>\n",
       "      <td>active</td>\n",
       "      <td>None</td>\n",
       "      <td>NaN</td>\n",
       "      <td>None</td>\n",
       "      <td>1</td>\n",
       "      <td>2015-08-30T14:24:01.000Z</td>\n",
       "      <td>http://articulo.mercadolibre.com.ar/MLA-576999...</td>\n",
       "      <td>0</td>\n",
       "      <td>1</td>\n",
       "      <td>Buenos Aires</td>\n",
       "      <td>Villa Adelina</td>\n",
       "      <td>Argentina</td>\n",
       "      <td>False</td>\n",
       "      <td>True</td>\n",
       "      <td>3</td>\n",
       "      <td>True</td>\n",
       "      <td>1</td>\n",
       "      <td>-34.517389</td>\n",
       "      <td>-58.537354</td>\n",
       "      <td>0</td>\n",
       "      <td>False</td>\n",
       "      <td>None</td>\n",
       "      <td>None</td>\n",
       "      <td>None</td>\n",
       "      <td>None</td>\n",
       "      <td>None</td>\n",
       "      <td>None</td>\n",
       "      <td>14</td>\n",
       "      <td>6</td>\n",
       "    </tr>\n",
       "    <tr>\n",
       "      <th>6</th>\n",
       "      <td>None</td>\n",
       "      <td>sin_substatus</td>\n",
       "      <td>0</td>\n",
       "      <td>None</td>\n",
       "      <td>sin_deal_ids</td>\n",
       "      <td>180.0</td>\n",
       "      <td>82247584</td>\n",
       "      <td>{}</td>\n",
       "      <td>MLA</td>\n",
       "      <td>free</td>\n",
       "      <td>180.0</td>\n",
       "      <td>buy_it_now</td>\n",
       "      <td>sin_tag</td>\n",
       "      <td></td>\n",
       "      <td>None</td>\n",
       "      <td>[]</td>\n",
       "      <td>MLA352650</td>\n",
       "      <td>2015-10-06T22:32:46.000Z</td>\n",
       "      <td>none</td>\n",
       "      <td>MLA583349401</td>\n",
       "      <td>NaN</td>\n",
       "      <td>None</td>\n",
       "      <td>True</td>\n",
       "      <td>NaN</td>\n",
       "      <td>ARS</td>\n",
       "      <td>http://mla-s1-p.mlstatic.com/472901-MLA2044293...</td>\n",
       "      <td>Short Nike Fit Boca Juniors Talle S 7-8 Años</td>\n",
       "      <td>False</td>\n",
       "      <td>2015-10-06 22:32:41+00:00</td>\n",
       "      <td>https://a248.e.akamai.net/mla-s1-p.mlstatic.co...</td>\n",
       "      <td>2015-12-05T22:32:41.000Z</td>\n",
       "      <td>active</td>\n",
       "      <td>None</td>\n",
       "      <td>NaN</td>\n",
       "      <td>None</td>\n",
       "      <td>1</td>\n",
       "      <td>2015-10-06T22:32:41.000Z</td>\n",
       "      <td>http://articulo.mercadolibre.com.ar/MLA-583349...</td>\n",
       "      <td>0</td>\n",
       "      <td>1</td>\n",
       "      <td>Capital Federal</td>\n",
       "      <td>Barracas</td>\n",
       "      <td>Argentina</td>\n",
       "      <td>False</td>\n",
       "      <td>True</td>\n",
       "      <td>0</td>\n",
       "      <td>True</td>\n",
       "      <td>5</td>\n",
       "      <td>-34.642826</td>\n",
       "      <td>-58.376779</td>\n",
       "      <td>1</td>\n",
       "      <td>True</td>\n",
       "      <td>None</td>\n",
       "      <td>None</td>\n",
       "      <td>None</td>\n",
       "      <td>None</td>\n",
       "      <td>None</td>\n",
       "      <td>None</td>\n",
       "      <td>22</td>\n",
       "      <td>1</td>\n",
       "    </tr>\n",
       "    <tr>\n",
       "      <th>7</th>\n",
       "      <td>None</td>\n",
       "      <td>sin_substatus</td>\n",
       "      <td>0</td>\n",
       "      <td>None</td>\n",
       "      <td>sin_deal_ids</td>\n",
       "      <td>150.0</td>\n",
       "      <td>40903230</td>\n",
       "      <td>{}</td>\n",
       "      <td>MLA</td>\n",
       "      <td>free</td>\n",
       "      <td>150.0</td>\n",
       "      <td>buy_it_now</td>\n",
       "      <td>dragged_bids_and_visits</td>\n",
       "      <td></td>\n",
       "      <td>MLA574564215</td>\n",
       "      <td>[]</td>\n",
       "      <td>MLA1227</td>\n",
       "      <td>2015-10-14T19:36:54.000Z</td>\n",
       "      <td>none</td>\n",
       "      <td>MLA584657993</td>\n",
       "      <td>NaN</td>\n",
       "      <td>None</td>\n",
       "      <td>True</td>\n",
       "      <td>NaN</td>\n",
       "      <td>ARS</td>\n",
       "      <td>http://mla-s2-p.mlstatic.com/9874-MLA200219365...</td>\n",
       "      <td>Plaza De Toros Iglesias Vistas Aereas De Españ...</td>\n",
       "      <td>False</td>\n",
       "      <td>2015-10-14 19:36:52+00:00</td>\n",
       "      <td>https://a248.e.akamai.net/mla-s2-p.mlstatic.co...</td>\n",
       "      <td>2015-12-13T19:36:52.000Z</td>\n",
       "      <td>active</td>\n",
       "      <td>None</td>\n",
       "      <td>NaN</td>\n",
       "      <td>None</td>\n",
       "      <td>1</td>\n",
       "      <td>2015-10-14T19:36:52.000Z</td>\n",
       "      <td>http://articulo.mercadolibre.com.ar/MLA-584657...</td>\n",
       "      <td>0</td>\n",
       "      <td>1</td>\n",
       "      <td>Buenos Aires</td>\n",
       "      <td>Avellaneda/Capital Federal</td>\n",
       "      <td>Argentina</td>\n",
       "      <td>False</td>\n",
       "      <td>False</td>\n",
       "      <td>2</td>\n",
       "      <td>True</td>\n",
       "      <td>5</td>\n",
       "      <td>-34.650742</td>\n",
       "      <td>-58.49276</td>\n",
       "      <td>0</td>\n",
       "      <td>False</td>\n",
       "      <td>None</td>\n",
       "      <td>None</td>\n",
       "      <td>None</td>\n",
       "      <td>None</td>\n",
       "      <td>None</td>\n",
       "      <td>None</td>\n",
       "      <td>19</td>\n",
       "      <td>2</td>\n",
       "    </tr>\n",
       "    <tr>\n",
       "      <th>8</th>\n",
       "      <td>1 Ano</td>\n",
       "      <td>sin_substatus</td>\n",
       "      <td>1</td>\n",
       "      <td>None</td>\n",
       "      <td>sin_deal_ids</td>\n",
       "      <td>2352.0</td>\n",
       "      <td>166958416</td>\n",
       "      <td>{}</td>\n",
       "      <td>MLA</td>\n",
       "      <td>gold_special</td>\n",
       "      <td>2352.0</td>\n",
       "      <td>buy_it_now</td>\n",
       "      <td>sin_tag</td>\n",
       "      <td></td>\n",
       "      <td>None</td>\n",
       "      <td>[]</td>\n",
       "      <td>MLA352293</td>\n",
       "      <td>2015-10-02T00:01:26.000Z</td>\n",
       "      <td>none</td>\n",
       "      <td>MLA582290832</td>\n",
       "      <td>NaN</td>\n",
       "      <td>None</td>\n",
       "      <td>True</td>\n",
       "      <td>NaN</td>\n",
       "      <td>ARS</td>\n",
       "      <td>http://mla-s1-p.mlstatic.com/797901-MLA2043624...</td>\n",
       "      <td>Kit X2 Amortiguador Trasero Monroe Chrysler Ca...</td>\n",
       "      <td>True</td>\n",
       "      <td>2015-09-30 21:50:22+00:00</td>\n",
       "      <td>https://a248.e.akamai.net/mla-s1-p.mlstatic.co...</td>\n",
       "      <td>2015-11-29T21:50:22.000Z</td>\n",
       "      <td>paused</td>\n",
       "      <td>QQNfOicE_o8</td>\n",
       "      <td>NaN</td>\n",
       "      <td>None</td>\n",
       "      <td>10</td>\n",
       "      <td>2015-09-30T21:50:22.000Z</td>\n",
       "      <td>http://articulo.mercadolibre.com.ar/MLA-582290...</td>\n",
       "      <td>0</td>\n",
       "      <td>10</td>\n",
       "      <td>Capital Federal</td>\n",
       "      <td>Capital Federal</td>\n",
       "      <td>Argentina</td>\n",
       "      <td>True</td>\n",
       "      <td>True</td>\n",
       "      <td>2</td>\n",
       "      <td>True</td>\n",
       "      <td>3</td>\n",
       "      <td>-34.58502</td>\n",
       "      <td>-58.47917</td>\n",
       "      <td>0</td>\n",
       "      <td>False</td>\n",
       "      <td>None</td>\n",
       "      <td>None</td>\n",
       "      <td>None</td>\n",
       "      <td>None</td>\n",
       "      <td>None</td>\n",
       "      <td>None</td>\n",
       "      <td>21</td>\n",
       "      <td>2</td>\n",
       "    </tr>\n",
       "    <tr>\n",
       "      <th>9</th>\n",
       "      <td>None</td>\n",
       "      <td>sin_substatus</td>\n",
       "      <td>1</td>\n",
       "      <td>None</td>\n",
       "      <td>sin_deal_ids</td>\n",
       "      <td>120.0</td>\n",
       "      <td>20834268</td>\n",
       "      <td>{}</td>\n",
       "      <td>MLA</td>\n",
       "      <td>silver</td>\n",
       "      <td>120.0</td>\n",
       "      <td>buy_it_now</td>\n",
       "      <td>sin_tag</td>\n",
       "      <td></td>\n",
       "      <td>MLA544182842</td>\n",
       "      <td>[]</td>\n",
       "      <td>MLA121665</td>\n",
       "      <td>2015-10-08T20:02:01.000Z</td>\n",
       "      <td>none</td>\n",
       "      <td>MLA582819613</td>\n",
       "      <td>NaN</td>\n",
       "      <td>None</td>\n",
       "      <td>True</td>\n",
       "      <td>NaN</td>\n",
       "      <td>ARS</td>\n",
       "      <td>http://mla-s1-p.mlstatic.com/22802-MLA20237759...</td>\n",
       "      <td>Bonitas Mallas Color Fuccia Talle 1 Y 2</td>\n",
       "      <td>False</td>\n",
       "      <td>2015-10-03 23:11:30+00:00</td>\n",
       "      <td>https://a248.e.akamai.net/mla-s1-p.mlstatic.co...</td>\n",
       "      <td>2015-12-02T23:11:29.000Z</td>\n",
       "      <td>active</td>\n",
       "      <td>None</td>\n",
       "      <td>NaN</td>\n",
       "      <td>None</td>\n",
       "      <td>2</td>\n",
       "      <td>2015-10-03T23:11:29.000Z</td>\n",
       "      <td>http://articulo.mercadolibre.com.ar/MLA-582819...</td>\n",
       "      <td>1</td>\n",
       "      <td>1</td>\n",
       "      <td>Buenos Aires</td>\n",
       "      <td>monte grande</td>\n",
       "      <td>Argentina</td>\n",
       "      <td>False</td>\n",
       "      <td>True</td>\n",
       "      <td>1</td>\n",
       "      <td>True</td>\n",
       "      <td>2</td>\n",
       "      <td>-34.811316</td>\n",
       "      <td>-58.490033</td>\n",
       "      <td>1</td>\n",
       "      <td>True</td>\n",
       "      <td>Mujer</td>\n",
       "      <td>Spring-Summer</td>\n",
       "      <td>None</td>\n",
       "      <td>None</td>\n",
       "      <td>None</td>\n",
       "      <td>None</td>\n",
       "      <td>23</td>\n",
       "      <td>5</td>\n",
       "    </tr>\n",
       "  </tbody>\n",
       "</table>\n",
       "</div>"
      ],
      "text/plain": [
       "             warranty     sub_status  condition seller_contact      deal_ids  \\\n",
       "0                None  sin_substatus          1           None  sin_deal_ids   \n",
       "1  NUESTRA REPUTACION  sin_substatus          0           None  sin_deal_ids   \n",
       "2                None  sin_substatus          0           None  sin_deal_ids   \n",
       "3                None  sin_substatus          1           None  sin_deal_ids   \n",
       "4      MI REPUTACION.  sin_substatus          0           None  sin_deal_ids   \n",
       "5                  Sí  sin_substatus          1           None  sin_deal_ids   \n",
       "6                None  sin_substatus          0           None  sin_deal_ids   \n",
       "7                None  sin_substatus          0           None  sin_deal_ids   \n",
       "8               1 Ano  sin_substatus          1           None  sin_deal_ids   \n",
       "9                None  sin_substatus          1           None  sin_deal_ids   \n",
       "\n",
       "   base_price  seller_id location site_id listing_type_id   price buying_mode  \\\n",
       "0        80.0   74952096       {}     MLA          bronze    80.0  buy_it_now   \n",
       "1      2650.0   42093335       {}     MLA          silver  2650.0  buy_it_now   \n",
       "2        60.0  133384258       {}     MLA          bronze    60.0  buy_it_now   \n",
       "3       580.0  143001605       {}     MLA          silver   580.0  buy_it_now   \n",
       "4        30.0   96873449       {}     MLA          bronze    30.0  buy_it_now   \n",
       "5       310.0   93122911       {}     MLA          bronze   310.0  buy_it_now   \n",
       "6       180.0   82247584       {}     MLA            free   180.0  buy_it_now   \n",
       "7       150.0   40903230       {}     MLA            free   150.0  buy_it_now   \n",
       "8      2352.0  166958416       {}     MLA    gold_special  2352.0  buy_it_now   \n",
       "9       120.0   20834268       {}     MLA          silver   120.0  buy_it_now   \n",
       "\n",
       "                      tags listing_source parent_item_id coverage_areas  \\\n",
       "0  dragged_bids_and_visits                  MLA568261029             []   \n",
       "1                  sin_tag                  MLA561574487             []   \n",
       "2  dragged_bids_and_visits                  MLA568881256             []   \n",
       "3                  sin_tag                          None             []   \n",
       "4  dragged_bids_and_visits                  MLA566354576             []   \n",
       "5  dragged_bids_and_visits                  MLA562683364             []   \n",
       "6                  sin_tag                          None             []   \n",
       "7  dragged_bids_and_visits                  MLA574564215             []   \n",
       "8                  sin_tag                          None             []   \n",
       "9                  sin_tag                  MLA544182842             []   \n",
       "\n",
       "  category_id              last_updated international_delivery_mode  \\\n",
       "0   MLA126406  2015-09-05T20:42:58.000Z                        none   \n",
       "1    MLA10267  2015-09-26T18:08:34.000Z                        none   \n",
       "2     MLA1227  2015-09-09T23:57:10.000Z                        none   \n",
       "3    MLA86345  2015-10-05T16:03:50.306Z                        none   \n",
       "4    MLA41287  2015-08-28T13:37:41.000Z                        none   \n",
       "5     MLA1429  2015-08-30T14:24:09.000Z                        none   \n",
       "6   MLA352650  2015-10-06T22:32:46.000Z                        none   \n",
       "7     MLA1227  2015-10-14T19:36:54.000Z                        none   \n",
       "8   MLA352293  2015-10-02T00:01:26.000Z                        none   \n",
       "9   MLA121665  2015-10-08T20:02:01.000Z                        none   \n",
       "\n",
       "             id  official_store_id differential_pricing  accepts_mercadopago  \\\n",
       "0  MLA578052519                NaN                 None                 True   \n",
       "1  MLA581565358                NaN                 None                 True   \n",
       "2  MLA578780872                NaN                 None                 True   \n",
       "3  MLA581877385                NaN                 None                 True   \n",
       "4  MLA576112692                NaN                 None                 True   \n",
       "5  MLA576999902                NaN                 None                 True   \n",
       "6  MLA583349401                NaN                 None                 True   \n",
       "7  MLA584657993                NaN                 None                 True   \n",
       "8  MLA582290832                NaN                 None                 True   \n",
       "9  MLA582819613                NaN                 None                 True   \n",
       "\n",
       "   original_price currency_id  \\\n",
       "0             NaN         ARS   \n",
       "1             NaN         ARS   \n",
       "2             NaN         ARS   \n",
       "3             NaN         ARS   \n",
       "4             NaN         ARS   \n",
       "5             NaN         ARS   \n",
       "6             NaN         ARS   \n",
       "7             NaN         ARS   \n",
       "8             NaN         ARS   \n",
       "9             NaN         ARS   \n",
       "\n",
       "                                           thumbnail  \\\n",
       "0  http://mla-s1-p.mlstatic.com/5386-MLA435206787...   \n",
       "1  http://mla-s1-p.mlstatic.com/23223-MLA20245018...   \n",
       "2  http://mla-s1-p.mlstatic.com/22076-MLA20223367...   \n",
       "3  http://mla-s2-p.mlstatic.com/183901-MLA2043288...   \n",
       "4  http://mla-s2-p.mlstatic.com/13595-MLA13041807...   \n",
       "5  http://mla-s2-p.mlstatic.com/6207-MLA87256964_...   \n",
       "6  http://mla-s1-p.mlstatic.com/472901-MLA2044293...   \n",
       "7  http://mla-s2-p.mlstatic.com/9874-MLA200219365...   \n",
       "8  http://mla-s1-p.mlstatic.com/797901-MLA2043624...   \n",
       "9  http://mla-s1-p.mlstatic.com/22802-MLA20237759...   \n",
       "\n",
       "                                               title  automatic_relist  \\\n",
       "0  Auriculares Samsung Originales Manos Libres Ca...             False   \n",
       "1  Cuchillo Daga Acero Carbón Casco Yelmo Solinge...             False   \n",
       "2        Antigua Revista Billiken, N° 1826, Año 1954             False   \n",
       "3  Alarma Guardtex Gx412 Seguridad Para El Automo...             False   \n",
       "4                          Serenata - Jennifer Blake             False   \n",
       "5          Clavo De Olor(*1/2)  Grano Origen Turquia             False   \n",
       "6       Short Nike Fit Boca Juniors Talle S 7-8 Años             False   \n",
       "7  Plaza De Toros Iglesias Vistas Aereas De Españ...             False   \n",
       "8  Kit X2 Amortiguador Trasero Monroe Chrysler Ca...              True   \n",
       "9            Bonitas Mallas Color Fuccia Talle 1 Y 2             False   \n",
       "\n",
       "               date_created  \\\n",
       "0 2015-09-05 20:42:53+00:00   \n",
       "1 2015-09-26 18:08:30+00:00   \n",
       "2 2015-09-09 23:57:07+00:00   \n",
       "3 2015-09-28 18:47:56+00:00   \n",
       "4 2015-08-24 22:07:20+00:00   \n",
       "5 2015-08-30 14:24:02+00:00   \n",
       "6 2015-10-06 22:32:41+00:00   \n",
       "7 2015-10-14 19:36:52+00:00   \n",
       "8 2015-09-30 21:50:22+00:00   \n",
       "9 2015-10-03 23:11:30+00:00   \n",
       "\n",
       "                                    secure_thumbnail  \\\n",
       "0  https://a248.e.akamai.net/mla-s1-p.mlstatic.co...   \n",
       "1  https://a248.e.akamai.net/mla-s1-p.mlstatic.co...   \n",
       "2  https://a248.e.akamai.net/mla-s1-p.mlstatic.co...   \n",
       "3  https://a248.e.akamai.net/mla-s2-p.mlstatic.co...   \n",
       "4  https://a248.e.akamai.net/mla-s2-p.mlstatic.co...   \n",
       "5  https://a248.e.akamai.net/mla-s2-p.mlstatic.co...   \n",
       "6  https://a248.e.akamai.net/mla-s1-p.mlstatic.co...   \n",
       "7  https://a248.e.akamai.net/mla-s2-p.mlstatic.co...   \n",
       "8  https://a248.e.akamai.net/mla-s1-p.mlstatic.co...   \n",
       "9  https://a248.e.akamai.net/mla-s1-p.mlstatic.co...   \n",
       "\n",
       "                  stop_time  status     video_id  catalog_product_id subtitle  \\\n",
       "0  2015-11-04T20:42:53.000Z  active         None                 NaN     None   \n",
       "1  2015-11-25T18:08:30.000Z  active         None                 NaN     None   \n",
       "2  2015-11-08T23:57:07.000Z  active         None                 NaN     None   \n",
       "3  2015-12-04T01:13:16.000Z  active         None                 NaN     None   \n",
       "4  2015-10-23T22:07:20.000Z  active         None                 NaN     None   \n",
       "5  2015-10-29T14:24:01.000Z  active         None                 NaN     None   \n",
       "6  2015-12-05T22:32:41.000Z  active         None                 NaN     None   \n",
       "7  2015-12-13T19:36:52.000Z  active         None                 NaN     None   \n",
       "8  2015-11-29T21:50:22.000Z  paused  QQNfOicE_o8                 NaN     None   \n",
       "9  2015-12-02T23:11:29.000Z  active         None                 NaN     None   \n",
       "\n",
       "   initial_quantity                start_time  \\\n",
       "0                 1  2015-09-05T20:42:53.000Z   \n",
       "1                 1  2015-09-26T18:08:30.000Z   \n",
       "2                 1  2015-09-09T23:57:07.000Z   \n",
       "3                 1  2015-09-28T18:47:56.000Z   \n",
       "4                 1  2015-08-24T22:07:20.000Z   \n",
       "5                 1  2015-08-30T14:24:01.000Z   \n",
       "6                 1  2015-10-06T22:32:41.000Z   \n",
       "7                 1  2015-10-14T19:36:52.000Z   \n",
       "8                10  2015-09-30T21:50:22.000Z   \n",
       "9                 2  2015-10-03T23:11:29.000Z   \n",
       "\n",
       "                                           permalink  sold_quantity  \\\n",
       "0  http://articulo.mercadolibre.com.ar/MLA-578052...              0   \n",
       "1  http://articulo.mercadolibre.com.ar/MLA-581565...              0   \n",
       "2  http://articulo.mercadolibre.com.ar/MLA-578780...              0   \n",
       "3  http://articulo.mercadolibre.com.ar/MLA-581877...              0   \n",
       "4  http://articulo.mercadolibre.com.ar/MLA-576112...              0   \n",
       "5  http://articulo.mercadolibre.com.ar/MLA-576999...              0   \n",
       "6  http://articulo.mercadolibre.com.ar/MLA-583349...              0   \n",
       "7  http://articulo.mercadolibre.com.ar/MLA-584657...              0   \n",
       "8  http://articulo.mercadolibre.com.ar/MLA-582290...              0   \n",
       "9  http://articulo.mercadolibre.com.ar/MLA-582819...              1   \n",
       "\n",
       "   available_quantity       state_name                   city_name    country  \\\n",
       "0                   1  Capital Federal               San Cristóbal  Argentina   \n",
       "1                   1  Capital Federal                Buenos Aires  Argentina   \n",
       "2                   1  Capital Federal                       Boedo  Argentina   \n",
       "3                   1  Capital Federal                    Floresta  Argentina   \n",
       "4                   1     Buenos Aires             Tres de febrero  Argentina   \n",
       "5                   1     Buenos Aires               Villa Adelina  Argentina   \n",
       "6                   1  Capital Federal                    Barracas  Argentina   \n",
       "7                   1     Buenos Aires  Avellaneda/Capital Federal  Argentina   \n",
       "8                  10  Capital Federal             Capital Federal  Argentina   \n",
       "9                   1     Buenos Aires                monte grande  Argentina   \n",
       "\n",
       "   free_shipping  local_pick_up  num_payment_methods  has_description  \\\n",
       "0          False           True                    3             True   \n",
       "1          False           True                    2             True   \n",
       "2          False           True                    3             True   \n",
       "3          False           True                    3             True   \n",
       "4          False           True                    3             True   \n",
       "5          False           True                    3             True   \n",
       "6          False           True                    0             True   \n",
       "7          False          False                    2             True   \n",
       "8           True           True                    2             True   \n",
       "9          False           True                    1             True   \n",
       "\n",
       "   num_pictures   latitude  longitude  num_variations  has_variations gender  \\\n",
       "0             2  -34.62807 -58.398671               0           False   None   \n",
       "1             6 -34.593552 -58.505917               0           False   None   \n",
       "2             1 -34.623391 -58.414395               0           False   None   \n",
       "3             2 -34.628189 -58.492921               0           False   None   \n",
       "4             2 -34.634655 -58.549504               0           False   None   \n",
       "5             1 -34.517389 -58.537354               0           False   None   \n",
       "6             5 -34.642826 -58.376779               1            True   None   \n",
       "7             5 -34.650742  -58.49276               0           False   None   \n",
       "8             3  -34.58502  -58.47917               0           False   None   \n",
       "9             2 -34.811316 -58.490033               1            True  Mujer   \n",
       "\n",
       "          season brand color model main_material  created_hour  \\\n",
       "0           None  None  None  None          None            20   \n",
       "1           None  None  None  None          None            18   \n",
       "2           None  None  None  None          None            23   \n",
       "3           None  None  None  None          None            18   \n",
       "4           None  None  None  None          None            22   \n",
       "5           None  None  None  None          None            14   \n",
       "6           None  None  None  None          None            22   \n",
       "7           None  None  None  None          None            19   \n",
       "8           None  None  None  None          None            21   \n",
       "9  Spring-Summer  None  None  None          None            23   \n",
       "\n",
       "   created_weekday  \n",
       "0                5  \n",
       "1                5  \n",
       "2                2  \n",
       "3                0  \n",
       "4                0  \n",
       "5                6  \n",
       "6                1  \n",
       "7                2  \n",
       "8                2  \n",
       "9                5  "
      ]
     },
     "execution_count": 9,
     "metadata": {},
     "output_type": "execute_result"
    }
   ],
   "source": [
    "df_train.head(10)"
   ]
  },
  {
   "cell_type": "markdown",
   "metadata": {},
   "source": [
    "Doy una primer lectura rapida al total de columnas y variables con valores nulos."
   ]
  },
  {
   "cell_type": "code",
   "execution_count": 111,
   "metadata": {},
   "outputs": [
    {
     "name": "stdout",
     "output_type": "stream",
     "text": [
      "<class 'pandas.core.frame.DataFrame'>\n",
      "RangeIndex: 90000 entries, 0 to 89999\n",
      "Data columns (total 58 columns):\n",
      " #   Column                       Non-Null Count  Dtype  \n",
      "---  ------                       --------------  -----  \n",
      " 0   warranty                     35243 non-null  object \n",
      " 1   sub_status                   90000 non-null  object \n",
      " 2   condition                    90000 non-null  int64  \n",
      " 3   seller_contact               1982 non-null   object \n",
      " 4   deal_ids                     90000 non-null  object \n",
      " 5   base_price                   90000 non-null  float64\n",
      " 6   seller_id                    90000 non-null  int64  \n",
      " 7   location                     90000 non-null  object \n",
      " 8   site_id                      90000 non-null  object \n",
      " 9   listing_type_id              90000 non-null  object \n",
      " 10  price                        90000 non-null  float64\n",
      " 11  buying_mode                  90000 non-null  object \n",
      " 12  tags                         90000 non-null  object \n",
      " 13  listing_source               90000 non-null  object \n",
      " 14  parent_item_id               69310 non-null  object \n",
      " 15  coverage_areas               90000 non-null  object \n",
      " 16  category_id                  90000 non-null  object \n",
      " 17  last_updated                 90000 non-null  object \n",
      " 18  international_delivery_mode  90000 non-null  object \n",
      " 19  id                           90000 non-null  object \n",
      " 20  official_store_id            745 non-null    float64\n",
      " 21  differential_pricing         0 non-null      object \n",
      " 22  accepts_mercadopago          90000 non-null  bool   \n",
      " 23  original_price               130 non-null    float64\n",
      " 24  currency_id                  90000 non-null  object \n",
      " 25  thumbnail                    90000 non-null  object \n",
      " 26  title                        90000 non-null  object \n",
      " 27  automatic_relist             90000 non-null  bool   \n",
      " 28  date_created                 90000 non-null  object \n",
      " 29  secure_thumbnail             90000 non-null  object \n",
      " 30  stop_time                    90000 non-null  object \n",
      " 31  status                       90000 non-null  object \n",
      " 32  video_id                     2676 non-null   object \n",
      " 33  catalog_product_id           7 non-null      float64\n",
      " 34  subtitle                     0 non-null      object \n",
      " 35  initial_quantity             90000 non-null  int64  \n",
      " 36  start_time                   90000 non-null  object \n",
      " 37  permalink                    90000 non-null  object \n",
      " 38  sold_quantity                90000 non-null  int64  \n",
      " 39  available_quantity           90000 non-null  int64  \n",
      " 40  state_name                   90000 non-null  object \n",
      " 41  city_name                    90000 non-null  object \n",
      " 42  country                      90000 non-null  object \n",
      " 43  free_shipping                90000 non-null  bool   \n",
      " 44  local_pick_up                90000 non-null  bool   \n",
      " 45  num_payment_methods          90000 non-null  int64  \n",
      " 46  has_description              90000 non-null  bool   \n",
      " 47  num_pictures                 90000 non-null  int64  \n",
      " 48  latitude                     90000 non-null  object \n",
      " 49  longitude                    90000 non-null  object \n",
      " 50  num_variations               90000 non-null  int64  \n",
      " 51  has_variations               90000 non-null  bool   \n",
      " 52  gender                       6751 non-null   object \n",
      " 53  season                       6919 non-null   object \n",
      " 54  brand                        1099 non-null   object \n",
      " 55  color                        977 non-null    object \n",
      " 56  model                        1133 non-null   object \n",
      " 57  main_material                0 non-null      object \n",
      "dtypes: bool(6), float64(5), int64(8), object(39)\n",
      "memory usage: 36.2+ MB\n"
     ]
    }
   ],
   "source": [
    "df_train.info()"
   ]
  },
  {
   "cell_type": "markdown",
   "metadata": {},
   "source": [
    "## Funciones a utilizar para el análisis de variables"
   ]
  },
  {
   "cell_type": "markdown",
   "metadata": {},
   "source": [
    "La siguiente función tiene como objetivo identificar las palabras más frecuentes en una columna de texto de un DataFrame, excluyendo aquellas que no aportan valor analítico (stopwords).\n",
    "\n",
    "Mi idea es utilizarla para:\n",
    "\n",
    "  - Identificar los términos dominantes en las variables de garantia, titulo, etc.\n",
    "  - Apoyar tareas de ingeniería de variables o análisis exploratorio.\n",
    "\n",
    "Esta función realiza lo siguiente:\n",
    "\n",
    "1. **Elimina valores nulos** y convierte todo a minúsculas.\n",
    "2. **Limpia el texto** para quedarse solo con palabras alfabéticas (omitiendo símbolos o números).\n",
    "3. **Filtra las stopwords** (como “el”, “la”, “de”, etc.) que no agregan significado.\n",
    "4. **Cuenta la frecuencia** de las palabras restantes.\n",
    "5. **Devuelve el top N** de palabras más comunes en la columna."
   ]
  },
  {
   "cell_type": "code",
   "execution_count": 11,
   "metadata": {},
   "outputs": [
    {
     "name": "stderr",
     "output_type": "stream",
     "text": [
      "[nltk_data] Downloading package stopwords to\n",
      "[nltk_data]     /Users/omargarciaflores/nltk_data...\n",
      "[nltk_data]   Package stopwords is already up-to-date!\n"
     ]
    }
   ],
   "source": [
    "import nltk\n",
    "nltk.download('stopwords')\n",
    "\n",
    "from collections import Counter\n",
    "import re\n",
    "from nltk.corpus import stopwords\n",
    "\n",
    "def top_words_from_column(df, column, top_n=20, language='spanish'):\n",
    "    \"\"\"\n",
    "    Devuelve las N palabras más comunes en una columna de texto, excluyendo stopwords.\n",
    "    \"\"\"\n",
    "    # Obtener lista de stopwords en español\n",
    "    stop_words = set(stopwords.words(language))\n",
    "    \n",
    "    # Unir texto y limpiar\n",
    "    text = ' '.join(df[column].dropna().astype(str).str.lower())\n",
    "    words = re.findall(r'\\b\\w+\\b', text)\n",
    "    \n",
    "    # Filtrar stopwords\n",
    "    filtered_words = [word for word in words if word not in stop_words]\n",
    "    \n",
    "    word_counts = Counter(filtered_words)\n",
    "    return word_counts.most_common(top_n)\n",
    "\n"
   ]
  },
  {
   "cell_type": "markdown",
   "metadata": {},
   "source": [
    "La siguiente función permite analizar cómo se distribuye la variable objetivo (`condition`, que indica si un artículo es **nuevo** o **usado**) a través de los niveles de una variable categórica.\n",
    "\n",
    "Al analizar una variable categórica (por ejemplo, `has_warranty`, `listing_type`, etc.), es importante saber:\n",
    "\n",
    "- Cuántos registros hay por cada categoría (`count`).\n",
    "- Qué proporción de artículos **nuevos** hay dentro de cada categoría (`proportion_new`).\n",
    "- Qué tan representativa es cada categoría dentro del total (`population_share`).\n",
    "\n",
    "Este análisis ayuda a:\n",
    "\n",
    "- Detectar variables con buen poder de discriminación.\n",
    "- Identificar sesgos o clases dominantes en ciertos subgrupos.\n",
    "- Guiar decisiones de codificación o agrupación de categorías.\n",
    "\n",
    "Esta función realiza lo siguiente:\n",
    "\n",
    "1. **Agrupa** el DataFrame por la columna categórica elegida.\n",
    "2. Calcula:\n",
    "   - `count`: cantidad de registros por categoría.\n",
    "   - `proportion_new`: proporción promedio de artículos nuevos (asumiendo que `condition = 1` si es nuevo).\n",
    "3. Calcula `population_share`: qué porcentaje del total representa cada categoría.\n",
    "4. **Imprime** la tabla resumen para inspección.\n"
   ]
  },
  {
   "cell_type": "code",
   "execution_count": 12,
   "metadata": {},
   "outputs": [],
   "source": [
    "def porcentaje_clases(df, column):\n",
    "\n",
    "    warranty_stats = df.groupby(column)['condition'].agg(\n",
    "        count='size',\n",
    "        proportion_new='mean',\n",
    "    ).reset_index()\n",
    "    \n",
    "    total_count = warranty_stats['count'].sum()\n",
    "    warranty_stats['population_share'] = warranty_stats['count'] / total_count\n",
    "    \n",
    "    print(warranty_stats)\n"
   ]
  },
  {
   "cell_type": "code",
   "execution_count": 13,
   "metadata": {},
   "outputs": [],
   "source": [
    "def porcentaje_clases_2(df, col):\n",
    "    grupo = df.groupby(col)['condition'].agg(\n",
    "        count='size',\n",
    "        proportion_new='mean'\n",
    "    ).reset_index()\n",
    "    grupo['population_share'] = grupo['count'] / grupo['count'].sum()\n",
    "    return grupo\n"
   ]
  },
  {
   "cell_type": "markdown",
   "metadata": {},
   "source": [
    "## Porcentaje de las clases"
   ]
  },
  {
   "cell_type": "markdown",
   "metadata": {},
   "source": [
    "Es importante ver cual es el porcentaje de cada una de las clases entre articulos nuevos y usados para saber si debemos dar algún tratamiento de balanceo de clases."
   ]
  },
  {
   "cell_type": "code",
   "execution_count": 14,
   "metadata": {},
   "outputs": [
    {
     "data": {
      "text/plain": [
       "condition\n",
       "1    0.537244\n",
       "0    0.462756\n",
       "Name: proportion, dtype: float64"
      ]
     },
     "execution_count": 14,
     "metadata": {},
     "output_type": "execute_result"
    }
   ],
   "source": [
    "# porcentaje de cada una de las clases\n",
    "df_train['condition'].value_counts(normalize=True)\n"
   ]
  },
  {
   "cell_type": "markdown",
   "metadata": {},
   "source": [
    "Podemos ver que no hay un desbalanceo de clases; ahora ire explorando cada variable para ver el tratamiento que debo aplicar."
   ]
  },
  {
   "cell_type": "markdown",
   "metadata": {},
   "source": [
    "## Análisis de variables"
   ]
  },
  {
   "cell_type": "markdown",
   "metadata": {},
   "source": [
    "### 1. warranty"
   ]
  },
  {
   "cell_type": "code",
   "execution_count": 15,
   "metadata": {},
   "outputs": [
    {
     "name": "stdout",
     "output_type": "stream",
     "text": [
      "garantía: 8843\n",
      "garantia: 4591\n",
      "meses: 4404\n",
      "6: 2614\n",
      "si: 2375\n",
      "producto: 2363\n",
      "calificaciones: 2173\n",
      "productos: 1529\n",
      "año: 1377\n",
      "1: 1323\n",
      "años: 1275\n",
      "100: 1236\n",
      "oficial: 1137\n",
      "3: 1115\n",
      "defectos: 1099\n",
      "fallas: 1027\n",
      "fabrica: 1023\n",
      "fabricación: 1021\n",
      "fabricacion: 843\n",
      "fabricante: 778\n",
      "entrega: 744\n",
      "calidad: 731\n",
      "libro: 728\n",
      "compra: 703\n",
      "comprador: 681\n",
      "reputacion: 670\n",
      "12: 663\n",
      "dias: 663\n",
      "articulo: 637\n",
      "falla: 633\n",
      "total: 623\n",
      "original: 615\n",
      "reputación: 612\n",
      "mejor: 594\n",
      "caso: 586\n",
      "solo: 572\n",
      "nuevo: 567\n",
      "defecto: 520\n",
      "libros: 519\n",
      "cambio: 495\n",
      "buen: 487\n",
      "mas: 464\n",
      "retirar: 463\n",
      "positivas: 459\n",
      "uso: 439\n",
      "originales: 430\n",
      "factura: 428\n",
      "condiciones: 427\n",
      "cualquier: 424\n",
      "escrita: 414\n"
     ]
    }
   ],
   "source": [
    "# 1. warranty\n",
    "top_50_warranty = top_words_from_column(df_train, 'warranty', top_n=50)\n",
    "\n",
    "for word, freq in top_50_warranty:\n",
    "    print(f'{word}: {freq}')\n"
   ]
  },
  {
   "cell_type": "markdown",
   "metadata": {},
   "source": [
    "Una vez que pude ver el top 50 de palabras que vienen en garantía me parece que puedo realizar una función con el objetivo de **inferir si una publicación menciona o sugiere que ofrece garantía**, a partir del análisis del texto contenido en la columna `warranty` y si la ofrece entonces pareciera más probable que el producto pueda ser nuevo.\n",
    "\n",
    "La función `clasificar_garantia` realiza lo siguiente:\n",
    "\n",
    "1. **Casos vacíos o en blanco**:\n",
    "   - Si el valor es `NaN` o está vacío, se considera como **sin información de garantía** retorna `0`.\n",
    "\n",
    "2. **Frases negativas explícitas**:\n",
    "   - Si encuentra expresiones como `\"no\"`, `\"sin\"`, `\"ninguna\"`, `\"no tiene\"`, `\"no hay\"`, se interpreta como que **no tiene garantía** retorna `0`.\n",
    "\n",
    "3. **Palabras que sugieren garantía**:\n",
    "   - Si el texto contiene términos como `\"garantía\"`, `\"producto\"`, `\"fabricante\"`, `\"falla\"`, `\"original\"`, `\"entrega\"`, `\"meses\"`, etc., se considera **relacionado con garantía** retorna `1`.\n",
    "\n",
    "4. **Caso neutro**:\n",
    "   - Si no hay ninguna pista clara, se considera como **no garantía explícita** retorna `0`.\n"
   ]
  },
  {
   "cell_type": "code",
   "execution_count": 32,
   "metadata": {},
   "outputs": [],
   "source": [
    "import re\n",
    "\n",
    "def clasificar_garantia(x):\n",
    "    if pd.isna(x) or str(x).strip() == '':\n",
    "        return 0  # Sin información\n",
    "\n",
    "    x_str = str(x).lower()\n",
    "    \n",
    "    # Expresiones que indican que NO tiene garantía\n",
    "    if re.search(r'\\b(no|sin|ninguna|no tiene|no hay)\\b', x_str):\n",
    "        return 0\n",
    "    \n",
    "    # Palabras que sugieren garantía (sin afirmarlo directamente)\n",
    "    posibles = [\n",
    "        \"garantía\",\"garantia\",\n",
    "        \"si\", \"1\", \"2\", \"3\", \"4\", \"5\", \"6\", \"7\", \"8\", \"9\", \"10\", \"11\", \"12\", \n",
    "        \"13\", \"14\", \"15\", \"16\", \"17\", \"18\", \"19\", \"20\", \"21\", \"22\", \"23\", \"24\",\n",
    "        \"dias\", \"dia\", \"mes\", \"articulo\", \"articulos\", \"original\", \"originales\",\n",
    "        \"meses\", \"producto\", \"productos\", \"calificaciones\", \"oficial\", \"defecto\"\n",
    "        \"defectos\", \"fabricación\", \"fabricacion\" \"fabrica\", \"fabricante\", \"falla\", \"fallas\", \"entrega\",\n",
    "        \"compra\", \"comprador\", \"calidad\", \"año\", \"años\", \"libro\", \"garantizado\", \"garantiza\",\n",
    "\n",
    "    ]\n",
    "    \n",
    "    if any(palabra in x_str for palabra in posibles):\n",
    "        return 1  # Texto relacionado a garantía\n",
    "\n",
    "    return 0  # Garantía afirmada o no negada explícitamente\n",
    "\n",
    "df_train['has_warranty'] = df_train['warranty'].apply(clasificar_garantia)\n"
   ]
  },
  {
   "cell_type": "code",
   "execution_count": 95,
   "metadata": {},
   "outputs": [
    {
     "name": "stdout",
     "output_type": "stream",
     "text": [
      "   has_warranty  count  proportion_new  population_share\n",
      "0             0  70697        0.478111          0.785522\n",
      "1             1  19303        0.753821          0.214478\n"
     ]
    }
   ],
   "source": [
    "_ = porcentaje_clases(df_train, 'has_warranty')\n"
   ]
  },
  {
   "cell_type": "markdown",
   "metadata": {},
   "source": [
    "Podemos concluir que la tranformación realizada a la variable warranty fue exitosa ya que:\n",
    "\n",
    "* Gracias a la extracción de palabras clave en la garantía que nos sugieran que el producto puede ser nuevo encontramos un grupo que corresponde al 21% de la población de los cuales 75% corresponden a producto nuevo\n",
    "* Agrupamiento de los segmentos con palabras que sugerian no garantia y segmento vacio"
   ]
  },
  {
   "cell_type": "markdown",
   "metadata": {},
   "source": [
    "### 2. sub_status"
   ]
  },
  {
   "cell_type": "code",
   "execution_count": 105,
   "metadata": {},
   "outputs": [
    {
     "data": {
      "text/plain": [
       "array(['sin_substatus', 'suspended', 'expired', 'deleted'], dtype=object)"
      ]
     },
     "execution_count": 105,
     "metadata": {},
     "output_type": "execute_result"
    }
   ],
   "source": [
    "df_train['sub_status'].unique()\n"
   ]
  },
  {
   "cell_type": "code",
   "execution_count": 106,
   "metadata": {},
   "outputs": [
    {
     "name": "stdout",
     "output_type": "stream",
     "text": [
      "      sub_status  count  proportion_new  population_share\n",
      "0        deleted      7        0.571429          0.000078\n",
      "1        expired     13        0.384615          0.000144\n",
      "2  sin_substatus  89109        0.537084          0.990100\n",
      "3      suspended    871        0.555683          0.009678\n"
     ]
    }
   ],
   "source": [
    "_ = porcentaje_clases(df_train, 'sub_status')"
   ]
  },
  {
   "cell_type": "markdown",
   "metadata": {},
   "source": [
    "En substatus parece que no hay nada que hacer porque todo se concentra en \"sin_substatus\", es decir, la variable es mayormente nula"
   ]
  },
  {
   "cell_type": "markdown",
   "metadata": {},
   "source": [
    "### 3. seller_contact"
   ]
  },
  {
   "cell_type": "code",
   "execution_count": 17,
   "metadata": {},
   "outputs": [
    {
     "name": "stdout",
     "output_type": "stream",
     "text": [
      "   has_seller_contact  count  proportion_new  population_share\n",
      "0                   0  88018        0.544173          0.977978\n",
      "1                   1   1982        0.229566          0.022022\n"
     ]
    }
   ],
   "source": [
    "# Crear variable binaria\n",
    "df_train['has_seller_contact'] = df_train['seller_contact'].apply(\n",
    "    lambda x: int(pd.notna(x) and isinstance(x, dict) and len(x) > 0)\n",
    ")\n",
    "\n",
    "_ = porcentaje_clases(df_train, 'has_seller_contact')\n"
   ]
  },
  {
   "cell_type": "markdown",
   "metadata": {},
   "source": [
    "Esta variable si tiene grupos diferentes en cuanto a la proporción de articulos nuevos pero el porcentaje de la población que es diferente al promedio es muy bajo, aún asi la probaremos."
   ]
  },
  {
   "cell_type": "markdown",
   "metadata": {},
   "source": [
    "### 4. buying_mode"
   ]
  },
  {
   "cell_type": "code",
   "execution_count": 123,
   "metadata": {},
   "outputs": [
    {
     "data": {
      "text/plain": [
       "array(['buy_it_now', 'classified', 'auction'], dtype=object)"
      ]
     },
     "execution_count": 123,
     "metadata": {},
     "output_type": "execute_result"
    }
   ],
   "source": [
    "df_train['buying_mode'].unique()"
   ]
  },
  {
   "cell_type": "code",
   "execution_count": 124,
   "metadata": {},
   "outputs": [
    {
     "name": "stdout",
     "output_type": "stream",
     "text": [
      "  buying_mode  count  proportion_new  population_share\n",
      "0     auction    707        0.322489          0.007856\n",
      "1  buy_it_now  87311        0.545968          0.970122\n",
      "2  classified   1982        0.229566          0.022022\n"
     ]
    }
   ],
   "source": [
    "_ = porcentaje_clases(df_train, 'buying_mode')"
   ]
  },
  {
   "cell_type": "markdown",
   "metadata": {},
   "source": [
    "Esta variable es similar a la de arriba, por lo que tomaré esta variable clasificando de manera binaria buy_it_now = 1 y sino 0."
   ]
  },
  {
   "cell_type": "markdown",
   "metadata": {},
   "source": [
    "### 5. Price"
   ]
  },
  {
   "cell_type": "code",
   "execution_count": 125,
   "metadata": {},
   "outputs": [],
   "source": [
    "# Crear deciles de precio: 1 (más bajo) a 10 (más alto)\n",
    "df_train['price_decile'] = pd.qcut(df_train['price'], q=10, labels=False) + 1\n"
   ]
  },
  {
   "cell_type": "code",
   "execution_count": 126,
   "metadata": {},
   "outputs": [
    {
     "name": "stdout",
     "output_type": "stream",
     "text": [
      "   price_decile  count  proportion_new  population_share\n",
      "0             1   9147        0.408003          0.101633\n",
      "1             2   8858        0.271506          0.098422\n",
      "2             3   9016        0.403949          0.100178\n",
      "3             4   9138        0.507879          0.101533\n",
      "4             5  10110        0.577151          0.112333\n",
      "5             6   7746        0.645882          0.086067\n",
      "6             7   9455        0.651719          0.105056\n",
      "7             8   8571        0.704585          0.095233\n",
      "8             9   8962        0.673064          0.099578\n",
      "9            10   8997        0.540291          0.099967\n"
     ]
    }
   ],
   "source": [
    "_ = porcentaje_clases(df_train, 'price_decile')"
   ]
  },
  {
   "cell_type": "markdown",
   "metadata": {},
   "source": [
    "Parece que entre más alto es el precio mayor probabilidad de que el articulo sea nuevo a excepción del ultimo decil que podría corresponder a autos talvez, dejare la variable sin tranformación de momento."
   ]
  },
  {
   "cell_type": "markdown",
   "metadata": {},
   "source": [
    "### 6. listing_type_id"
   ]
  },
  {
   "cell_type": "code",
   "execution_count": 131,
   "metadata": {},
   "outputs": [
    {
     "data": {
      "text/plain": [
       "listing_type_id\n",
       "bronze          56904\n",
       "free            19260\n",
       "silver           8195\n",
       "gold_special     2693\n",
       "gold             2170\n",
       "gold_premium      765\n",
       "gold_pro           13\n",
       "Name: count, dtype: int64"
      ]
     },
     "execution_count": 131,
     "metadata": {},
     "output_type": "execute_result"
    }
   ],
   "source": [
    "df_train['listing_type_id'].value_counts()\n"
   ]
  },
  {
   "cell_type": "code",
   "execution_count": 132,
   "metadata": {},
   "outputs": [
    {
     "name": "stdout",
     "output_type": "stream",
     "text": [
      "  listing_type_id  count  proportion_new  population_share\n",
      "0          bronze  56904        0.622276          0.632267\n",
      "1            free  19260        0.074143          0.214000\n",
      "2            gold   2170        0.861290          0.024111\n",
      "3    gold_premium    765        0.543791          0.008500\n",
      "4        gold_pro     13        1.000000          0.000144\n",
      "5    gold_special   2693        0.980691          0.029922\n",
      "6          silver   8195        0.802318          0.091056\n"
     ]
    }
   ],
   "source": [
    "_ = porcentaje_clases(df_train, 'listing_type_id')"
   ]
  },
  {
   "cell_type": "markdown",
   "metadata": {},
   "source": [
    "Esta variable ayudará mucho al modelo ya que tiene grupos muy diferentes, con los cuales crearé 3 categorias\n",
    "\n",
    "* gold: gold, gold_premium, gold_pro, gold_special, silver\n",
    "* bronze: bronze, gold_premium\n",
    "* free: free\n",
    "\n",
    "La idea detras de esto es juntar a las categorias que tienen porcentajes similares de productos nuevos"
   ]
  },
  {
   "cell_type": "markdown",
   "metadata": {},
   "source": [
    "### 7. tags"
   ]
  },
  {
   "cell_type": "code",
   "execution_count": 135,
   "metadata": {},
   "outputs": [
    {
     "data": {
      "text/plain": [
       "tags\n",
       "dragged_bids_and_visits                           65315\n",
       "sin_tag                                           22412\n",
       "good_quality_thumbnail_dragged_bids_and_visits     1191\n",
       "dragged_visits                                      464\n",
       "good_quality_thumbnail                              346\n",
       "dragged_visits_free_relist                          259\n",
       "poor_quality_thumbnail_dragged_bids_and_visits       10\n",
       "poor_quality_thumbnail                                3\n",
       "Name: count, dtype: int64"
      ]
     },
     "execution_count": 135,
     "metadata": {},
     "output_type": "execute_result"
    }
   ],
   "source": [
    "df_train['tags'].value_counts()"
   ]
  },
  {
   "cell_type": "code",
   "execution_count": 136,
   "metadata": {},
   "outputs": [
    {
     "name": "stdout",
     "output_type": "stream",
     "text": [
      "                                             tags  count  proportion_new  \\\n",
      "0                         dragged_bids_and_visits  65315        0.529388   \n",
      "1                                  dragged_visits    464        0.368534   \n",
      "2                      dragged_visits_free_relist    259        0.038610   \n",
      "3                          good_quality_thumbnail    346        0.794798   \n",
      "4  good_quality_thumbnail_dragged_bids_and_visits   1191        0.913518   \n",
      "5                          poor_quality_thumbnail      3        1.000000   \n",
      "6  poor_quality_thumbnail_dragged_bids_and_visits     10        1.000000   \n",
      "7                                         sin_tag  22412        0.545154   \n",
      "\n",
      "   population_share  \n",
      "0          0.725722  \n",
      "1          0.005156  \n",
      "2          0.002878  \n",
      "3          0.003844  \n",
      "4          0.013233  \n",
      "5          0.000033  \n",
      "6          0.000111  \n",
      "7          0.249022  \n"
     ]
    }
   ],
   "source": [
    "_ = porcentaje_clases(df_train, 'tags')"
   ]
  },
  {
   "cell_type": "markdown",
   "metadata": {},
   "source": [
    "Realizo variable binaria agrupando 'good_quality_thumbnail_dragged_bids_and_visits' y 'good_quality_thumbnail'"
   ]
  },
  {
   "cell_type": "markdown",
   "metadata": {},
   "source": [
    "### 8. category_id"
   ]
  },
  {
   "cell_type": "code",
   "execution_count": 141,
   "metadata": {},
   "outputs": [
    {
     "data": {
      "text/plain": [
       "category_id\n",
       "MLA1227      4139\n",
       "MLA2044      1759\n",
       "MLA41287      829\n",
       "MLA3530       685\n",
       "MLA2038       601\n",
       "             ... \n",
       "MLA376520       1\n",
       "MLA32782        1\n",
       "MLA96545        1\n",
       "MLA100025       1\n",
       "MLA7212         1\n",
       "Name: count, Length: 10491, dtype: int64"
      ]
     },
     "execution_count": 141,
     "metadata": {},
     "output_type": "execute_result"
    }
   ],
   "source": [
    "df_train['category_id'].value_counts()"
   ]
  },
  {
   "cell_type": "code",
   "execution_count": 35,
   "metadata": {},
   "outputs": [],
   "source": [
    "categorias = porcentaje_clases_2(df_train, 'category_id')"
   ]
  },
  {
   "cell_type": "markdown",
   "metadata": {},
   "source": [
    "Al tener tantas categorias quiero centrarme en identificar aquellas categorías (`category_id`) donde:\n",
    "\n",
    "1. Se tiene un número **mínimo de observaciones** (al menos 10 publicaciones), y\n",
    "2. **La gran mayoría de los artículos son nuevos** (≥ 75%).\n",
    "\n",
    "Estas categorías serán marcadas como \"altas\" para su posterior uso como variable predictora (`categoria`)."
   ]
  },
  {
   "cell_type": "code",
   "execution_count": 36,
   "metadata": {},
   "outputs": [],
   "source": [
    "categorias_altas = categorias[\n",
    "    (categorias['count'] >= 10) & \n",
    "    (categorias['proportion_new'] >= 0.75)\n",
    "]\n",
    "\n",
    "# Obtener solo los IDs\n",
    "categorias_id_altas = set(categorias_altas['category_id'])\n",
    "\n"
   ]
  },
  {
   "cell_type": "code",
   "execution_count": 159,
   "metadata": {},
   "outputs": [],
   "source": [
    "df_train['categoria_agrupada'] = df_train['category_id'].apply(\n",
    "    lambda x: 1 if x in categorias_id_altas else 0\n",
    ")\n"
   ]
  },
  {
   "cell_type": "code",
   "execution_count": 161,
   "metadata": {},
   "outputs": [
    {
     "name": "stdout",
     "output_type": "stream",
     "text": [
      "   categoria_agrupada  count  proportion_new  population_share\n",
      "0                   0  69092        0.420439          0.767689\n",
      "1                   1  20908        0.923235          0.232311\n"
     ]
    }
   ],
   "source": [
    "_ = porcentaje_clases(df_train, 'categoria_agrupada')"
   ]
  },
  {
   "cell_type": "markdown",
   "metadata": {},
   "source": [
    "La conclusión es que este tratamiento funcionó de buena manera ya que ahora tenemos un grupo que representa al 23.2% de la población donde el 92.3% de los articulos son nuevos."
   ]
  },
  {
   "cell_type": "markdown",
   "metadata": {},
   "source": [
    "### 9. date_created"
   ]
  },
  {
   "cell_type": "markdown",
   "metadata": {},
   "source": [
    "A partir de date_created realizo\n",
    "\n",
    "* created_weekday\n",
    "* created_hour\n",
    "  \n",
    "Mi idea es que si una publicación se realiza de lunes a viernes en un horario laboral es más probable que esa publicación sea de un articulo nuevo."
   ]
  },
  {
   "cell_type": "code",
   "execution_count": 205,
   "metadata": {},
   "outputs": [
    {
     "name": "stdout",
     "output_type": "stream",
     "text": [
      "   created_weekday  count  proportion_new  population_share\n",
      "0                0  16098        0.550627          0.178867\n",
      "1                1  16857        0.564395          0.187300\n",
      "2                2  14264        0.547042          0.158489\n",
      "3                3  11294        0.522224          0.125489\n",
      "4                4  13123        0.557190          0.145811\n",
      "5                5   9535        0.504143          0.105944\n",
      "6                6   8829        0.470495          0.098100\n"
     ]
    }
   ],
   "source": [
    "_ = porcentaje_clases(df_train, 'created_weekday')"
   ]
  },
  {
   "cell_type": "markdown",
   "metadata": {},
   "source": [
    "Inicialmente la idea parece correcta en cierto nivel, ya que la probabilidad baja en sabado y domingo."
   ]
  },
  {
   "cell_type": "code",
   "execution_count": 206,
   "metadata": {},
   "outputs": [
    {
     "name": "stdout",
     "output_type": "stream",
     "text": [
      "    created_hour  count  proportion_new  population_share\n",
      "0              0   4236        0.467186          0.047067\n",
      "1              1   3966        0.466213          0.044067\n",
      "2              2   3662        0.519934          0.040689\n",
      "3              3   2611        0.507468          0.029011\n",
      "4              4   1521        0.488494          0.016900\n",
      "5              5    909        0.470847          0.010100\n",
      "6              6    479        0.563674          0.005322\n",
      "7              7    401        0.596010          0.004456\n",
      "8              8    357        0.487395          0.003967\n",
      "9              9    568        0.424296          0.006311\n",
      "10            10   1406        0.465149          0.015622\n",
      "11            11   2958        0.580122          0.032867\n",
      "12            12   4959        0.597701          0.055100\n",
      "13            13   6018        0.589398          0.066867\n",
      "14            14   6551        0.584796          0.072789\n",
      "15            15   6304        0.559169          0.070044\n",
      "16            16   5271        0.534244          0.058567\n",
      "17            17   5267        0.538067          0.058522\n",
      "18            18   5685        0.560070          0.063167\n",
      "19            19   5687        0.585018          0.063189\n",
      "20            20   5545        0.556898          0.061611\n",
      "21            21   5549        0.535952          0.061656\n",
      "22            22   5243        0.497616          0.058256\n",
      "23            23   4847        0.439653          0.053856\n"
     ]
    }
   ],
   "source": [
    "_ = porcentaje_clases(df_train, 'created_hour')"
   ]
  },
  {
   "cell_type": "markdown",
   "metadata": {},
   "source": [
    "El objetivo es evaluar si el **momento de publicación** de un artículo (día y hora) influye en la probabilidad de que el artículo sea **nuevo** o **usado**, por lo que crearé una función para dividir el día en dos bloques horarios y ver si puedo encontrar una agrupación que pueda usar."
   ]
  },
  {
   "cell_type": "code",
   "execution_count": 31,
   "metadata": {},
   "outputs": [],
   "source": [
    "def categorizar_hora(h):\n",
    "    if 11 <= h <= 20:\n",
    "        return 'hora_alta'\n",
    "    else:\n",
    "        return 'hora_baja'\n",
    "\n",
    "df_train['hour_block'] = df_train['created_hour'].apply(categorizar_hora)\n",
    "df_train['weekday_block'] = df_train['created_weekday'].astype(str) + '_' + df_train['hour_block']\n"
   ]
  },
  {
   "cell_type": "code",
   "execution_count": 19,
   "metadata": {},
   "outputs": [
    {
     "name": "stdout",
     "output_type": "stream",
     "text": [
      "   weekday_block  count  proportion_new  population_share\n",
      "0    0_hora_alta   9790        0.573136          0.108778\n",
      "1    0_hora_baja   6308        0.515694          0.070089\n",
      "2    1_hora_alta  10920        0.595055          0.121333\n",
      "3    1_hora_baja   5937        0.508001          0.065967\n",
      "4    2_hora_alta   8488        0.573751          0.094311\n",
      "5    2_hora_baja   5776        0.507791          0.064178\n",
      "6    3_hora_alta   6272        0.555963          0.069689\n",
      "7    3_hora_baja   5022        0.480088          0.055800\n",
      "8    4_hora_alta   8577        0.606039          0.095300\n",
      "9    4_hora_baja   4546        0.465024          0.050511\n",
      "10   5_hora_alta   5527        0.535734          0.061411\n",
      "11   5_hora_baja   4008        0.460579          0.044533\n",
      "12   6_hora_alta   4671        0.472490          0.051900\n",
      "13   6_hora_baja   4158        0.468254          0.046200\n"
     ]
    }
   ],
   "source": [
    "_ = porcentaje_clases(df_train, 'weekday_block')"
   ]
  },
  {
   "cell_type": "markdown",
   "metadata": {},
   "source": [
    "Crearé una variable binaria donde agrupe:\n",
    "* Hora alta de lunes a sabado (mayor porcentaje de venta de articulos nuevos)\n",
    "* Resto de categorias"
   ]
  },
  {
   "cell_type": "code",
   "execution_count": 20,
   "metadata": {},
   "outputs": [],
   "source": [
    "# Variable binaria: 1 si es hora alta de lunes a sábado, 0 en otro caso\n",
    "df_train['horario_de_creacion'] = df_train.apply(\n",
    "    lambda row: 1 if int(row['created_weekday']) in range(6) and row['hour_block'] == 'hora_alta' else 0,\n",
    "    axis=1\n",
    ")\n"
   ]
  },
  {
   "cell_type": "code",
   "execution_count": 21,
   "metadata": {},
   "outputs": [
    {
     "name": "stdout",
     "output_type": "stream",
     "text": [
      "   horario_de_creacion  count  proportion_new  population_share\n",
      "0                    0  40426        0.487978          0.449178\n",
      "1                    1  49574        0.577420          0.550822\n"
     ]
    }
   ],
   "source": [
    "_ = porcentaje_clases(df_train, 'horario_de_creacion')"
   ]
  },
  {
   "cell_type": "markdown",
   "metadata": {},
   "source": [
    "Podemos notar una separación del porcentaje de articulos nuevos en ambos grupos."
   ]
  },
  {
   "cell_type": "markdown",
   "metadata": {},
   "source": [
    "### 10. official_store_id"
   ]
  },
  {
   "cell_type": "code",
   "execution_count": 242,
   "metadata": {},
   "outputs": [
    {
     "data": {
      "text/plain": [
       "array([ nan, 322., 308., 216., 170., 128.,  20., 309., 365., 157.,   9.,\n",
       "       296., 256.,   4., 221., 325., 197., 158., 371.,  38., 269.,  46.,\n",
       "       190.,  57., 272., 273., 350., 444., 174.,  23.,  18.,  70., 121.,\n",
       "       148., 130., 409., 114.,  32., 165.,  44.,  16., 152., 264., 344.,\n",
       "        47.,   3., 382., 262., 446., 252., 176.,   5., 280.,  49., 279.,\n",
       "       321., 211., 420., 304., 329., 107.,  25., 138.,  66.,   1.,  84.,\n",
       "       251., 140., 429., 372.,  67., 368., 398., 259., 236., 238., 285.,\n",
       "       213., 106.,  40., 313., 413., 373., 357., 223., 224., 185.,  11.,\n",
       "       290., 311., 393., 191.,  55., 208., 115.,  42., 358., 242.,  82.,\n",
       "        80.,  87., 392., 306., 395., 255., 302., 333., 229., 109., 189.,\n",
       "       332., 406.,  72., 245., 284., 305.,  31., 315.,  52., 162., 198.,\n",
       "       389., 200.,  71., 171.,  34., 265., 147., 268., 367., 168.,  41.,\n",
       "       241., 388., 312., 423., 131., 196.,  21., 110., 364., 244., 403.,\n",
       "       431., 113., 132.,  17.,  77.,  30., 289., 263., 234.,  15., 144.,\n",
       "        91., 127., 402., 146., 374., 414.,  88., 363., 126., 206., 217.,\n",
       "       434., 324.,  50., 145., 401., 237., 100., 205., 408., 187., 299.,\n",
       "        58., 270.,   6., 359., 101., 362.,  89.,  14., 184.,  24., 134.,\n",
       "         2., 249., 119., 433., 286., 440., 412., 366., 178., 151., 338.])"
      ]
     },
     "execution_count": 242,
     "metadata": {},
     "output_type": "execute_result"
    }
   ],
   "source": [
    "df_train['official_store_id'].unique()"
   ]
  },
  {
   "cell_type": "code",
   "execution_count": 243,
   "metadata": {},
   "outputs": [],
   "source": [
    "df_train['has_official_store'] = df_train['official_store_id'].apply(\n",
    "    lambda x: 1 if pd.notna(x) else 0\n",
    ")"
   ]
  },
  {
   "cell_type": "code",
   "execution_count": 244,
   "metadata": {},
   "outputs": [
    {
     "name": "stdout",
     "output_type": "stream",
     "text": [
      "   has_official_store  count  proportion_new  population_share\n",
      "0                   0  89255        0.533617          0.991722\n",
      "1                   1    745        0.971812          0.008278\n"
     ]
    }
   ],
   "source": [
    "_ = porcentaje_clases(df_train, 'has_official_store')"
   ]
  },
  {
   "cell_type": "markdown",
   "metadata": {},
   "source": [
    "A pesar de que son pocos registros parece que cuando un producto viene de una tienda oficial es muy probable que sea nuevo."
   ]
  },
  {
   "cell_type": "markdown",
   "metadata": {},
   "source": [
    "### 11. accepts_mercadopago"
   ]
  },
  {
   "cell_type": "code",
   "execution_count": 249,
   "metadata": {},
   "outputs": [
    {
     "data": {
      "text/plain": [
       "array([ True, False])"
      ]
     },
     "execution_count": 249,
     "metadata": {},
     "output_type": "execute_result"
    }
   ],
   "source": [
    "df_train['accepts_mercadopago'].unique()"
   ]
  },
  {
   "cell_type": "code",
   "execution_count": 250,
   "metadata": {},
   "outputs": [
    {
     "name": "stdout",
     "output_type": "stream",
     "text": [
      "   accepts_mercadopago  count  proportion_new  population_share\n",
      "0                False   1982        0.229566          0.022022\n",
      "1                 True  88018        0.544173          0.977978\n"
     ]
    }
   ],
   "source": [
    "_ = porcentaje_clases(df_train, 'accepts_mercadopago')"
   ]
  },
  {
   "cell_type": "markdown",
   "metadata": {},
   "source": [
    "Si no se acepta mercadopago es más probable que el producto no sea nuevo, aunque es poca población."
   ]
  },
  {
   "cell_type": "markdown",
   "metadata": {},
   "source": [
    "### 12. original_price"
   ]
  },
  {
   "cell_type": "code",
   "execution_count": 254,
   "metadata": {},
   "outputs": [],
   "source": [
    "df_train['diff_price'] = df_train['original_price'] - df_train['price']"
   ]
  },
  {
   "cell_type": "code",
   "execution_count": 255,
   "metadata": {},
   "outputs": [],
   "source": [
    "df_train['has_diff_price'] = df_train['diff_price'].apply(lambda x: 1 if x > 0 else 0)"
   ]
  },
  {
   "cell_type": "code",
   "execution_count": 256,
   "metadata": {},
   "outputs": [
    {
     "name": "stdout",
     "output_type": "stream",
     "text": [
      "   has_diff_price  count  proportion_new  population_share\n",
      "0               0  89873        0.536591          0.998589\n",
      "1               1    127        1.000000          0.001411\n"
     ]
    }
   ],
   "source": [
    "_ = porcentaje_clases(df_train, 'has_diff_price')"
   ]
  },
  {
   "cell_type": "markdown",
   "metadata": {},
   "source": [
    "Dejare esta variable afuera porque no hace mucho sentido y los registros son pocos."
   ]
  },
  {
   "cell_type": "markdown",
   "metadata": {},
   "source": [
    "### 13. currency_id"
   ]
  },
  {
   "cell_type": "code",
   "execution_count": 257,
   "metadata": {},
   "outputs": [
    {
     "data": {
      "text/plain": [
       "array(['ARS', 'USD'], dtype=object)"
      ]
     },
     "execution_count": 257,
     "metadata": {},
     "output_type": "execute_result"
    }
   ],
   "source": [
    "df_train['currency_id'].unique()"
   ]
  },
  {
   "cell_type": "code",
   "execution_count": 258,
   "metadata": {},
   "outputs": [
    {
     "name": "stdout",
     "output_type": "stream",
     "text": [
      "  currency_id  count  proportion_new  population_share\n",
      "0         ARS  89496        0.538180            0.9944\n",
      "1         USD    504        0.371032            0.0056\n"
     ]
    }
   ],
   "source": [
    "_ = porcentaje_clases(df_train, 'currency_id')"
   ]
  },
  {
   "cell_type": "markdown",
   "metadata": {},
   "source": [
    "No incluiré esta variable"
   ]
  },
  {
   "cell_type": "markdown",
   "metadata": {},
   "source": [
    "### 14. title"
   ]
  },
  {
   "cell_type": "markdown",
   "metadata": {},
   "source": [
    "Con esta variable realizaré algo muy similar al tratamiento que le di a warranty."
   ]
  },
  {
   "cell_type": "code",
   "execution_count": 261,
   "metadata": {},
   "outputs": [
    {
     "name": "stdout",
     "output_type": "stream",
     "text": [
      "2: 4462\n",
      "1: 4358\n",
      "original: 3055\n",
      "x: 2986\n",
      "nuevo: 2908\n",
      "3: 2580\n",
      "4: 2206\n",
      "cd: 2035\n",
      "5: 1864\n",
      "libro: 1626\n",
      "vinilo: 1580\n",
      "c: 1579\n",
      "6: 1577\n",
      "the: 1563\n",
      "s: 1394\n",
      "talle: 1357\n",
      "kit: 1275\n",
      "10: 1162\n",
      "antiguo: 1160\n",
      "lote: 1101\n",
      "revista: 1087\n",
      "antigua: 1048\n",
      "argentina: 1038\n",
      "p: 1038\n",
      "juego: 1017\n",
      "digital: 1009\n",
      "m: 981\n",
      "samsung: 945\n",
      "100: 929\n",
      "12: 918\n",
      "lp: 916\n",
      "cuero: 910\n",
      "ed: 906\n",
      "8: 899\n",
      "caja: 895\n",
      "dvd: 892\n",
      "n: 883\n",
      "ford: 878\n",
      "0: 862\n",
      "excelente: 848\n",
      "año: 834\n",
      "mujer: 829\n",
      "cm: 821\n",
      "oferta: 811\n",
      "disco: 801\n",
      "fiat: 795\n",
      "mesa: 793\n",
      "50: 761\n",
      "madera: 750\n",
      "nueva: 736\n"
     ]
    }
   ],
   "source": [
    "top_50_title = top_words_from_column(df_train, 'title', top_n=50)\n",
    "\n",
    "for word, freq in top_50_title:\n",
    "    print(f'{word}: {freq}')"
   ]
  },
  {
   "cell_type": "markdown",
   "metadata": {},
   "source": [
    "El objetivo es identificar si el **título del producto** sugiere que el artículo es **usado**, **nuevo** o si no hay evidencia suficiente para determinarlo.\n",
    "\n",
    "La función `clasificar_titulo` evalúa el texto en tres niveles:\n",
    "\n",
    "1. **Texto vacío, nulo, no concluyente** se asigna clase `0`.\n",
    "2. Si el título contiene palabras que **sugieren que NO es nuevo**  \n",
    "   como `\"usado\"`, `\"segunda mano\"`, `\"reacondicionado\"`, etc.  \n",
    "   se asigna clase `1` (indicación de que es **usado**).\n",
    "3. Si el título contiene palabras que **sugieren que es nuevo**  \n",
    "   como `\"nuevo\"`, `\"original\"`, `\"kit\"`, `\"caja\"`, `\"oferta\"` o números típicos de meses de garantía (`\"12\"`, `\"24\"`, etc.)  \n",
    "   se asigna clase `2` (indicación de que es **nuevo**).\n"
   ]
  },
  {
   "cell_type": "code",
   "execution_count": 30,
   "metadata": {},
   "outputs": [],
   "source": [
    "import re\n",
    "\n",
    "def clasificar_titulo(x):\n",
    "    if pd.isna(x) or str(x).strip() == '':\n",
    "        return 0  # Sin información\n",
    "\n",
    "    x_str = str(x).lower()\n",
    "    \n",
    "    # Expresiones que indican que NO es nuevo\n",
    "    if re.search(r'\\b(antiguo|antigua|usado|usada|usados|usadas|segunda mano|reacondicionado|reacondicionada|reacondicionados|desgaste|funciona|funcional)\\b', x_str):\n",
    "        return 1\n",
    "    \n",
    "    # Palabras que sugieren que es nuevo\n",
    "    posibles = [\n",
    "        \"nuevo\",\"nueva\",\"nuevos\",\"nuevas\",\"original\",\"originales\",\"kit\", \"caja\",\n",
    "        \"oferta\",\n",
    "        \"1\", \"2\", \"3\", \"4\", \"5\", \"6\", \"7\", \"8\", \"9\", \"10\", \"11\", \"12\", \n",
    "        \"13\", \"14\", \"15\", \"16\", \"17\", \"18\", \"19\", \"20\", \"21\", \"22\", \"23\", \"24\",\n",
    "        \"50\",\"100\"\n",
    "    ]\n",
    "    \n",
    "    if any(palabra in x_str for palabra in posibles):\n",
    "        return 2  \n",
    "\n",
    "    return 0  \n",
    "\n",
    "df_train['title_class'] = df_train['title'].apply(clasificar_titulo)\n"
   ]
  },
  {
   "cell_type": "code",
   "execution_count": 304,
   "metadata": {},
   "outputs": [
    {
     "name": "stdout",
     "output_type": "stream",
     "text": [
      "   title_class  count  proportion_new  population_share\n",
      "0            0  39203        0.446037          0.435589\n",
      "1            1   3032        0.072559          0.033689\n",
      "2            2  47765        0.641599          0.530722\n"
     ]
    }
   ],
   "source": [
    "_ = porcentaje_clases(df_train, 'title_class')"
   ]
  },
  {
   "cell_type": "markdown",
   "metadata": {},
   "source": [
    "Realizare variables dummy para la categoria 1 y 2"
   ]
  },
  {
   "cell_type": "markdown",
   "metadata": {},
   "source": [
    "### 15 .automatic_relist"
   ]
  },
  {
   "cell_type": "code",
   "execution_count": 313,
   "metadata": {},
   "outputs": [
    {
     "data": {
      "text/plain": [
       "automatic_relist\n",
       "False    85773\n",
       "True      4227\n",
       "Name: count, dtype: int64"
      ]
     },
     "execution_count": 313,
     "metadata": {},
     "output_type": "execute_result"
    }
   ],
   "source": [
    "df_train['automatic_relist'].value_counts()"
   ]
  },
  {
   "cell_type": "code",
   "execution_count": 314,
   "metadata": {},
   "outputs": [
    {
     "name": "stdout",
     "output_type": "stream",
     "text": [
      "   automatic_relist  count  proportion_new  population_share\n",
      "0             False  85773        0.516631          0.953033\n",
      "1              True   4227        0.955524          0.046967\n"
     ]
    }
   ],
   "source": [
    "_ = porcentaje_clases(df_train, 'automatic_relist')"
   ]
  },
  {
   "cell_type": "markdown",
   "metadata": {},
   "source": [
    "Parece muy claro que cuando un articulo se republica es muy probable que sean articulos nuevos. "
   ]
  },
  {
   "cell_type": "markdown",
   "metadata": {},
   "source": [
    "### 16. status"
   ]
  },
  {
   "cell_type": "code",
   "execution_count": 319,
   "metadata": {},
   "outputs": [
    {
     "data": {
      "text/plain": [
       "status\n",
       "active            86116\n",
       "paused             3863\n",
       "closed               20\n",
       "not_yet_active        1\n",
       "Name: count, dtype: int64"
      ]
     },
     "execution_count": 319,
     "metadata": {},
     "output_type": "execute_result"
    }
   ],
   "source": [
    "df_train['status'].value_counts()"
   ]
  },
  {
   "cell_type": "code",
   "execution_count": 320,
   "metadata": {},
   "outputs": [
    {
     "name": "stdout",
     "output_type": "stream",
     "text": [
      "           status  count  proportion_new  population_share\n",
      "0          active  86116        0.530819          0.956844\n",
      "1          closed     20        0.450000          0.000222\n",
      "2  not_yet_active      1        1.000000          0.000011\n",
      "3          paused   3863        0.680818          0.042922\n"
     ]
    }
   ],
   "source": [
    "_ = porcentaje_clases(df_train, 'status')"
   ]
  },
  {
   "cell_type": "markdown",
   "metadata": {},
   "source": [
    "Aqui hace sentido que 'paused' tenga mayor proporción de articulos nuevos ya que puede que el status esta pausado por un tema de stock, haré esta variable binaria."
   ]
  },
  {
   "cell_type": "markdown",
   "metadata": {},
   "source": [
    "### 17. available_quantity"
   ]
  },
  {
   "cell_type": "code",
   "execution_count": 22,
   "metadata": {},
   "outputs": [
    {
     "name": "stdout",
     "output_type": "stream",
     "text": [
      "     available_quantity  count  proportion_new  population_share\n",
      "0                     1  63732        0.367288          0.708133\n",
      "1                     2   4737        0.884315          0.052633\n",
      "2                     3   3184        0.942839          0.035378\n",
      "3                     4   1801        0.938923          0.020011\n",
      "4                     5   2052        0.962963          0.022800\n",
      "..                  ...    ...             ...               ...\n",
      "436                9995      2        1.000000          0.000022\n",
      "437                9996      6        1.000000          0.000067\n",
      "438                9997     12        1.000000          0.000133\n",
      "439                9998     16        1.000000          0.000178\n",
      "440                9999     66        0.984848          0.000733\n",
      "\n",
      "[441 rows x 4 columns]\n"
     ]
    }
   ],
   "source": [
    "_ = porcentaje_clases(df_train, 'available_quantity')"
   ]
  },
  {
   "cell_type": "code",
   "execution_count": 23,
   "metadata": {},
   "outputs": [],
   "source": [
    "df_train['disponibilidad_de_stock'] = df_train['available_quantity'].apply(lambda x: 1 if x > 1 else 0)"
   ]
  },
  {
   "cell_type": "code",
   "execution_count": 24,
   "metadata": {},
   "outputs": [
    {
     "name": "stdout",
     "output_type": "stream",
     "text": [
      "   disponibilidad_de_stock  count  proportion_new  population_share\n",
      "0                        0  63732        0.367288          0.708133\n",
      "1                        1  26268        0.949596          0.291867\n"
     ]
    }
   ],
   "source": [
    "_ = porcentaje_clases(df_train, 'disponibilidad_de_stock')"
   ]
  },
  {
   "cell_type": "markdown",
   "metadata": {},
   "source": [
    "La variable `available_quantity` representa la cantidad de unidades disponibles para un artículo publicado y se observa lo siguiente:\n",
    "\n",
    "- Cuando `available_quantity = 1`, la proporción de artículos **nuevos** es baja (alrededor del 36%).\n",
    "- A partir de `available_quantity > 1`, la proporción de artículos **nuevos** aumenta considerablemente (mayor al 88%).\n",
    "\n",
    "Con base en este análisis, se generó una nueva variable binaria llamada `disponibilidad_de_stock`:\n"
   ]
  },
  {
   "cell_type": "markdown",
   "metadata": {},
   "source": [
    "### 18. free_shipping"
   ]
  },
  {
   "cell_type": "code",
   "execution_count": 25,
   "metadata": {},
   "outputs": [
    {
     "name": "stdout",
     "output_type": "stream",
     "text": [
      "   free_shipping  count  proportion_new  population_share\n",
      "0          False  87303        0.525194          0.970033\n",
      "1           True   2697        0.927327          0.029967\n"
     ]
    }
   ],
   "source": [
    "_ = porcentaje_clases(df_train, 'free_shipping')"
   ]
  },
  {
   "cell_type": "markdown",
   "metadata": {},
   "source": [
    "Incluiré esta variable binaria"
   ]
  },
  {
   "cell_type": "markdown",
   "metadata": {},
   "source": [
    "### 19. has_description"
   ]
  },
  {
   "cell_type": "code",
   "execution_count": 344,
   "metadata": {},
   "outputs": [
    {
     "name": "stdout",
     "output_type": "stream",
     "text": [
      "   has_description  count  proportion_new  population_share\n",
      "0            False   2417        0.424907          0.026856\n",
      "1             True  87583        0.540345          0.973144\n"
     ]
    }
   ],
   "source": [
    "_ = porcentaje_clases(df_train, 'has_description')"
   ]
  },
  {
   "cell_type": "markdown",
   "metadata": {},
   "source": [
    "Podriamos incluir esta variable y ver si tiene un efecto positivo en el modelo"
   ]
  },
  {
   "cell_type": "markdown",
   "metadata": {},
   "source": [
    "### 20. num_pictures"
   ]
  },
  {
   "cell_type": "code",
   "execution_count": 345,
   "metadata": {},
   "outputs": [
    {
     "name": "stdout",
     "output_type": "stream",
     "text": [
      "    num_pictures  count  proportion_new  population_share\n",
      "0              0    703        0.322902          0.007811\n",
      "1              1  30018        0.501466          0.333533\n",
      "2              2  16010        0.534791          0.177889\n",
      "3              3  13261        0.563758          0.147344\n",
      "4              4   9294        0.537336          0.103267\n",
      "5              5   6757        0.531005          0.075078\n",
      "6              6  12434        0.632218          0.138156\n",
      "7              7    270        0.422222          0.003000\n",
      "8              8    197        0.380711          0.002189\n",
      "9              9    188        0.382979          0.002089\n",
      "10            10    179        0.407821          0.001989\n",
      "11            11    117        0.401709          0.001300\n",
      "12            12    103        0.436893          0.001144\n",
      "13            13     75        0.293333          0.000833\n",
      "14            14    307        0.214984          0.003411\n",
      "15            15     47        0.829787          0.000522\n",
      "16            16      3        0.666667          0.000033\n",
      "17            18     13        0.923077          0.000144\n",
      "18            19      2        1.000000          0.000022\n",
      "19            20      4        1.000000          0.000044\n",
      "20            21      2        1.000000          0.000022\n",
      "21            22      1        1.000000          0.000011\n",
      "22            23      1        1.000000          0.000011\n",
      "23            24      3        1.000000          0.000033\n",
      "24            25      1        1.000000          0.000011\n",
      "25            27      2        1.000000          0.000022\n",
      "26            28      1        1.000000          0.000011\n",
      "27            29      1        1.000000          0.000011\n",
      "28            30      2        1.000000          0.000022\n",
      "29            33      1        1.000000          0.000011\n",
      "30            34      1        1.000000          0.000011\n",
      "31            36      2        1.000000          0.000022\n"
     ]
    }
   ],
   "source": [
    "_ = porcentaje_clases(df_train, 'num_pictures')"
   ]
  },
  {
   "cell_type": "markdown",
   "metadata": {},
   "source": [
    "Parece que no podemos sacar una conclusión clara con la variable 'pictures'"
   ]
  },
  {
   "cell_type": "markdown",
   "metadata": {},
   "source": [
    "### 21. num_variations"
   ]
  },
  {
   "cell_type": "code",
   "execution_count": 356,
   "metadata": {},
   "outputs": [
    {
     "name": "stdout",
     "output_type": "stream",
     "text": [
      "    num_variations  count  proportion_new  population_share\n",
      "0                0  82626        0.533876          0.918067\n",
      "1                1   5334        0.427072          0.059267\n",
      "2                2    358        0.863128          0.003978\n",
      "3                3    235        0.931915          0.002611\n",
      "4                4    392        0.982143          0.004356\n",
      "5                5    258        0.992248          0.002867\n",
      "6                6    222        1.000000          0.002467\n",
      "7                7    231        0.987013          0.002567\n",
      "8                8     68        1.000000          0.000756\n",
      "9                9     31        1.000000          0.000344\n",
      "10              10     86        0.988372          0.000956\n",
      "11              11     20        1.000000          0.000222\n",
      "12              12     42        1.000000          0.000467\n",
      "13              13      4        1.000000          0.000044\n",
      "14              14     12        1.000000          0.000133\n",
      "15              15     11        1.000000          0.000122\n",
      "16              16     11        1.000000          0.000122\n",
      "17              17      4        1.000000          0.000044\n",
      "18              18     11        1.000000          0.000122\n",
      "19              19      2        1.000000          0.000022\n",
      "20              20      8        1.000000          0.000089\n",
      "21              21      5        1.000000          0.000056\n",
      "22              22      5        1.000000          0.000056\n",
      "23              23      1        1.000000          0.000011\n",
      "24              24      9        1.000000          0.000100\n",
      "25              25      2        1.000000          0.000022\n",
      "26              30      5        1.000000          0.000056\n",
      "27              34      1        1.000000          0.000011\n",
      "28              35      1        1.000000          0.000011\n",
      "29              36      2        1.000000          0.000022\n",
      "30              42      2        1.000000          0.000022\n",
      "31              50      1        1.000000          0.000011\n"
     ]
    }
   ],
   "source": [
    "_ = porcentaje_clases(df_train, 'num_variations')"
   ]
  },
  {
   "cell_type": "code",
   "execution_count": 363,
   "metadata": {},
   "outputs": [],
   "source": [
    "df_train['num_variations_gt_2'] = df_train['num_variations'].apply(lambda x: 1 if x >= 2 else 0)"
   ]
  },
  {
   "cell_type": "code",
   "execution_count": 365,
   "metadata": {},
   "outputs": [
    {
     "name": "stdout",
     "output_type": "stream",
     "text": [
      "   num_variations_gt_2  count  proportion_new  population_share\n",
      "0                    0  87960        0.527399          0.977333\n",
      "1                    1   2040        0.961765          0.022667\n"
     ]
    }
   ],
   "source": [
    "_ = porcentaje_clases(df_train, 'num_variations_gt_2')"
   ]
  },
  {
   "cell_type": "markdown",
   "metadata": {},
   "source": [
    "Incluiremos 'num_variations_gt_2' para ver si tiene un efecto en el modelo."
   ]
  },
  {
   "cell_type": "markdown",
   "metadata": {},
   "source": [
    "# Preprocesado de datos"
   ]
  },
  {
   "cell_type": "markdown",
   "metadata": {},
   "source": [
    "Aplico el mismo preprocesado de datos que hice arriba pero ahora con la idea de aplicarlo en las poblaciones de train y test."
   ]
  },
  {
   "cell_type": "code",
   "execution_count": 58,
   "metadata": {},
   "outputs": [],
   "source": [
    "def preprocesado_datos(X, y):\n",
    "\n",
    "    # Convertir X_train a DataFrame\n",
    "    df = pd.DataFrame(X)\n",
    "    \n",
    "    # Agregar la columna de etiquetas\n",
    "    df[\"condition\"] = y\n",
    "    \n",
    "    # 1. seller_address - extraer ciudad, estado y país\n",
    "    df['state_name'] = df['seller_address'].apply(lambda x: x.get('state', {}).get('name'))\n",
    "    df['city_name'] = df['seller_address'].apply(lambda x: x.get('city', {}).get('name'))\n",
    "    df['country'] = df['seller_address'].apply(lambda x: x.get('country', {}).get('name'))\n",
    "    \n",
    "    # 2. shipping - extraer si tiene envío gratis y si permite retiro local\n",
    "    df['free_shipping'] = df['shipping'].apply(lambda x: x.get('free_shipping'))\n",
    "    df['local_pick_up'] = df['shipping'].apply(lambda x: x.get('local_pick_up'))\n",
    "    \n",
    "    # 3. non_mercado_pago_payment_methods - número de métodos distintos\n",
    "    df['num_payment_methods'] = df['non_mercado_pago_payment_methods'].apply(len)\n",
    "    \n",
    "    # 4. descriptions - tiene descripción o no\n",
    "    df['has_description'] = df['descriptions'].apply(lambda x: len(x) > 0)\n",
    "    \n",
    "    # 5. pictures - cuántas imágenes tiene\n",
    "    df['num_pictures'] = df['pictures'].apply(len)\n",
    "    \n",
    "    # 6. geolocation - lat y lon\n",
    "    df['latitude'] = df['geolocation'].apply(lambda x: x.get('latitude'))\n",
    "    df['longitude'] = df['geolocation'].apply(lambda x: x.get('longitude'))\n",
    "    \n",
    "    # 7. variaciones\n",
    "    df[\"num_variations\"] = df[\"variations\"].apply(len)\n",
    "    df[\"has_variations\"] = df[\"num_variations\"] > 0\n",
    "    \n",
    "    \n",
    "    # 8. atributos clave desde la columna attributes\n",
    "    def extract_value(attr_list, key):\n",
    "        for att in attr_list:\n",
    "            if att.get(\"name\") == key:\n",
    "                return att.get(\"value_name\")\n",
    "        return None\n",
    "    \n",
    "    df[\"gender\"] = df[\"attributes\"].apply(lambda x: extract_value(x, \"Género\"))\n",
    "    df[\"season\"] = df[\"attributes\"].apply(lambda x: extract_value(x, \"Season\"))\n",
    "    df[\"brand\"] = df[\"attributes\"].apply(lambda x: extract_value(x, \"Marca\"))\n",
    "    df[\"color\"] = df[\"attributes\"].apply(lambda x: extract_value(x, \"Color\"))\n",
    "    df[\"model\"] = df[\"attributes\"].apply(lambda x: extract_value(x, \"Modelo\"))\n",
    "    df[\"main_material\"] = df[\"attributes\"].apply(lambda x: extract_value(x, \"Material principal\"))\n",
    "    \n",
    "    \n",
    "    # 9. Codificar condición como variable binaria\n",
    "    df[\"condition\"] = df[\"condition\"].apply(lambda x: 1 if x == \"new\" else 0)\n",
    "    \n",
    "    # 10. Aplanar sub_status\n",
    "    df['sub_status'] = df['sub_status'].apply(\n",
    "        lambda x: '_'.join(x) if isinstance(x, list) and len(x) > 0 else 'sin_substatus'\n",
    "    )\n",
    "    \n",
    "    # 11. Aplanar deal_ids\n",
    "    df['deal_ids'] = df['deal_ids'].apply(\n",
    "        lambda x: '_'.join(x) if isinstance(x, list) and len(x) > 0 else 'sin_deal_ids'\n",
    "    )\n",
    "    \n",
    "    # 12. tags\n",
    "    df['tags'] = df['tags'].apply(\n",
    "        lambda x: '_'.join(x) if isinstance(x, list) and len(x) > 0 else 'sin_tag'\n",
    "    )\n",
    "    \n",
    "    # 13. date_created\n",
    "    df['date_created'] = pd.to_datetime(df['date_created'])\n",
    "\n",
    "    # Crear nuevas columnas\n",
    "    df['created_hour'] = df['date_created'].dt.hour\n",
    "    df['created_weekday'] = df['date_created'].dt.dayofweek   # 0 = lunes\n",
    "\n",
    "\n",
    "    def categorizar_hora(h):\n",
    "        if 11 <= h <= 20:\n",
    "            return 'hora_alta'\n",
    "        else:\n",
    "            return 'hora_baja'\n",
    "\n",
    "    df['hour_block'] = df['created_hour'].apply(categorizar_hora)\n",
    "    df['weekday_block'] = df['created_weekday'].astype(str) + '_' + df['hour_block']\n",
    "\n",
    "\n",
    "    # Elimino columnas anidadas originales\n",
    "    df = df.drop(columns=[\n",
    "        'seller_address',\n",
    "        'shipping',\n",
    "        'non_mercado_pago_payment_methods',\n",
    "        'descriptions',\n",
    "        'pictures',\n",
    "        'geolocation',\n",
    "        'attributes',\n",
    "        'variations'\n",
    "    ])\n",
    "\n",
    "    return df"
   ]
  },
  {
   "cell_type": "code",
   "execution_count": 59,
   "metadata": {},
   "outputs": [],
   "source": [
    "train_aux = preprocesado_datos(X_train, y_train)\n",
    "test_aux = preprocesado_datos(X_test, y_test)"
   ]
  },
  {
   "cell_type": "markdown",
   "metadata": {},
   "source": [
    "# Ingeniería de variables"
   ]
  },
  {
   "cell_type": "markdown",
   "metadata": {},
   "source": [
    "Aplico todas las tranformaciones sugeridas basadas en los análisis hechos en la parte del EDA."
   ]
  },
  {
   "cell_type": "code",
   "execution_count": 60,
   "metadata": {},
   "outputs": [],
   "source": [
    "def transformacion_datos(df): \n",
    "\n",
    "    # 1. warranty\n",
    "    df['garantia'] = df['warranty'].apply(clasificar_garantia)\n",
    "\n",
    "    # 2. seller_contact\n",
    "    df['contacto_vendedor'] = df['seller_contact'].apply(\n",
    "    lambda x: int(pd.notna(x) and isinstance(x, dict) and len(x) > 0)\n",
    "    )\n",
    "\n",
    "    # 3. buying_mode\n",
    "    df['compra_inmediata'] = df[\"buying_mode\"].apply(lambda x: 1 if x == \"buy_it_now\" else 0)\n",
    "\n",
    "    # 4. listing_type_id\n",
    "    def map_listing_type(listing_type):\n",
    "        if listing_type in ['gold', 'gold_premium', 'gold_pro', 'gold_special', 'silver']:\n",
    "            return 'oro'\n",
    "        elif listing_type in ['bronze']:\n",
    "            return 'bronce'\n",
    "        elif listing_type in ['free']:\n",
    "            return 'gratis'\n",
    "        else:\n",
    "            return 'otros'  # Por si aparece alguno inesperado\n",
    "    \n",
    "    # Crear nueva columna\n",
    "    df['listado'] = df['listing_type_id'].apply(map_listing_type)\n",
    "\n",
    "    # Crear variables dummies y unirlas al dataframe original\n",
    "    dummies = pd.get_dummies(df['listado'], prefix='listado', dtype=int)\n",
    "\n",
    "    # Unir al dataframe\n",
    "    df = pd.concat([df, dummies], axis=1)\n",
    "\n",
    "\n",
    "    # 5. tags\n",
    "    df['etiqueta_de_calidad'] = df['tags'].apply(\n",
    "    lambda x: 1 if isinstance(x, list) and (\n",
    "        'good_quality_thumbnail' in x or\n",
    "        'good_quality_thumbnail_dragged_bids_and_visits' in x\n",
    "    ) else 0\n",
    "    )\n",
    " \n",
    "    # 6. category_id\n",
    "    df['categoria_del_producto'] = df['category_id'].apply(\n",
    "    lambda x: 1 if x in categorias_id_altas else 0\n",
    "    )  # El conjunto de categorias altas se genero en el EDA\n",
    "\n",
    "    # 13. date_created: variable binaria 1 si es hora alta de lunes a sábado, 0 en otro caso \n",
    "    df['horario_de_creacion'] = df.apply(\n",
    "        lambda row: 1 if int(row['created_weekday']) in range(6) and row['hour_block'] == 'hora_alta' else 0,\n",
    "        axis=1\n",
    "    )\n",
    "    \n",
    "    # 14. official_store_id\n",
    "    df['tienda_oficial'] = df['official_store_id'].apply(\n",
    "    lambda x: 1 if pd.notna(x) else 0\n",
    "    )\n",
    "\n",
    "    # 15. accepts_mercadopago\n",
    "    df['acepta_mercadopago'] = df['accepts_mercadopago'].astype(int)\n",
    "\n",
    "    # 16. title_class, esta variable binaria es 1 si el titulo tiene palabras que sugieren que es nuevo, 0 en otro caso\n",
    "    # clasificar_titulo se genero en el EDA\n",
    "    df['title_class'] = df['title'].apply(clasificar_titulo)\n",
    "    df['titulo_nuevo'] = np.where(df['title_class'] == 2, 1, 0)\n",
    "    df['titulo_usado'] = np.where(df['title_class'] == 1, 1, 0)   \n",
    "\n",
    "    # 17. automatic_relist\n",
    "    df['republicacion_automatica'] = df['automatic_relist'].astype(int)\n",
    "\n",
    "    # 18. status\n",
    "    df['estatus_pausado'] = (df['status'] == 'paused').astype(int)\n",
    "\n",
    "    # 19. available_quantity\n",
    "    df['disponibilidad_de_stock'] = df['available_quantity'].apply(lambda x: 1 if x > 1 else 0)\n",
    "\n",
    "    # 20. free_shipping\n",
    "    df['envio_gratis'] = df['free_shipping'].astype(int)\n",
    "\n",
    "    # 21. has_description\n",
    "    df['tiene_descripcion'] = df['has_description'].astype(int)\n",
    "\n",
    "    # 22. num_variations\n",
    "    df['variaciones'] = df['num_variations'].apply(lambda x: 1 if x >= 2 else 0)\n",
    "\n",
    "    # drop variables\n",
    "    df = df.drop(columns=['warranty',\n",
    "                          'listado',\n",
    "                          'listing_type_id',\n",
    "                          'tags',\n",
    "                          'seller_contact',\n",
    "                          'sub_status',\n",
    "                          'deal_ids',\t\n",
    "                          'base_price',\n",
    "                          'seller_id',\n",
    "                          'location',\n",
    "                          'site_id',\n",
    "                          'listing_source',\n",
    "                          'parent_item_id',\n",
    "                          'coverage_areas',\n",
    "                          'category_id',\n",
    "                          'last_updated',\n",
    "                          'international_delivery_mode',\n",
    "                          'id',\n",
    "                          'official_store_id',\n",
    "                          'differential_pricing',\n",
    "                          'original_price',\n",
    "                          'currency_id',\n",
    "                          'thumbnail',\n",
    "                          'title',\n",
    "                          'secure_thumbnail',\n",
    "                          'stop_time',\n",
    "                          'status',\n",
    "                          'video_id',\n",
    "                          'catalog_product_id',\n",
    "                          'subtitle',\n",
    "                          'initial_quantity',\n",
    "                          'start_time',\n",
    "                          'permalink',\n",
    "                          'sold_quantity',\n",
    "                          'available_quantity',\n",
    "                          'state_name',\n",
    "                          'city_name',\n",
    "                          'country',\n",
    "                          'local_pick_up',\n",
    "                          'num_payment_methods',\n",
    "                          'num_pictures',\n",
    "                          'latitude',\n",
    "                          'longitude',\n",
    "                          'num_variations',\n",
    "                          'has_variations',\n",
    "                          'gender',\n",
    "                          'season',\n",
    "                          'brand',\n",
    "                          'color',\n",
    "                          'model',\n",
    "                          'main_material',\n",
    "                          'date_created',\n",
    "                          'created_hour',\n",
    "                          'created_weekday',\n",
    "                          'hour_block',\n",
    "                          'weekday_block',\n",
    "                          'title_class',\n",
    "                          'accepts_mercadopago',\n",
    "                          'automatic_relist',\n",
    "                          'status',\n",
    "                          'available_quantity',\n",
    "                          'free_shipping',\n",
    "                          'has_description',\n",
    "                          'buying_mode'\n",
    "                          ])\n",
    "\n",
    "\n",
    "    return df\n",
    "\n"
   ]
  },
  {
   "cell_type": "code",
   "execution_count": 61,
   "metadata": {},
   "outputs": [
    {
     "data": {
      "text/html": [
       "<div>\n",
       "<style scoped>\n",
       "    .dataframe tbody tr th:only-of-type {\n",
       "        vertical-align: middle;\n",
       "    }\n",
       "\n",
       "    .dataframe tbody tr th {\n",
       "        vertical-align: top;\n",
       "    }\n",
       "\n",
       "    .dataframe thead th {\n",
       "        text-align: right;\n",
       "    }\n",
       "</style>\n",
       "<table border=\"1\" class=\"dataframe\">\n",
       "  <thead>\n",
       "    <tr style=\"text-align: right;\">\n",
       "      <th></th>\n",
       "      <th>condition</th>\n",
       "      <th>price</th>\n",
       "      <th>garantia</th>\n",
       "      <th>contacto_vendedor</th>\n",
       "      <th>compra_inmediata</th>\n",
       "      <th>listado_bronce</th>\n",
       "      <th>listado_gratis</th>\n",
       "      <th>listado_oro</th>\n",
       "      <th>etiqueta_de_calidad</th>\n",
       "      <th>categoria_del_producto</th>\n",
       "      <th>horario_de_creacion</th>\n",
       "      <th>tienda_oficial</th>\n",
       "      <th>acepta_mercadopago</th>\n",
       "      <th>titulo_nuevo</th>\n",
       "      <th>titulo_usado</th>\n",
       "      <th>republicacion_automatica</th>\n",
       "      <th>estatus_pausado</th>\n",
       "      <th>disponibilidad_de_stock</th>\n",
       "      <th>envio_gratis</th>\n",
       "      <th>tiene_descripcion</th>\n",
       "      <th>variaciones</th>\n",
       "    </tr>\n",
       "  </thead>\n",
       "  <tbody>\n",
       "    <tr>\n",
       "      <th>0</th>\n",
       "      <td>1</td>\n",
       "      <td>80.00</td>\n",
       "      <td>0</td>\n",
       "      <td>0</td>\n",
       "      <td>1</td>\n",
       "      <td>1</td>\n",
       "      <td>0</td>\n",
       "      <td>0</td>\n",
       "      <td>0</td>\n",
       "      <td>0</td>\n",
       "      <td>1</td>\n",
       "      <td>0</td>\n",
       "      <td>1</td>\n",
       "      <td>1</td>\n",
       "      <td>0</td>\n",
       "      <td>0</td>\n",
       "      <td>0</td>\n",
       "      <td>0</td>\n",
       "      <td>0</td>\n",
       "      <td>1</td>\n",
       "      <td>0</td>\n",
       "    </tr>\n",
       "    <tr>\n",
       "      <th>1</th>\n",
       "      <td>0</td>\n",
       "      <td>2650.00</td>\n",
       "      <td>0</td>\n",
       "      <td>0</td>\n",
       "      <td>1</td>\n",
       "      <td>0</td>\n",
       "      <td>0</td>\n",
       "      <td>1</td>\n",
       "      <td>0</td>\n",
       "      <td>0</td>\n",
       "      <td>1</td>\n",
       "      <td>0</td>\n",
       "      <td>1</td>\n",
       "      <td>0</td>\n",
       "      <td>0</td>\n",
       "      <td>0</td>\n",
       "      <td>0</td>\n",
       "      <td>0</td>\n",
       "      <td>0</td>\n",
       "      <td>1</td>\n",
       "      <td>0</td>\n",
       "    </tr>\n",
       "    <tr>\n",
       "      <th>2</th>\n",
       "      <td>0</td>\n",
       "      <td>60.00</td>\n",
       "      <td>0</td>\n",
       "      <td>0</td>\n",
       "      <td>1</td>\n",
       "      <td>1</td>\n",
       "      <td>0</td>\n",
       "      <td>0</td>\n",
       "      <td>0</td>\n",
       "      <td>0</td>\n",
       "      <td>0</td>\n",
       "      <td>0</td>\n",
       "      <td>1</td>\n",
       "      <td>0</td>\n",
       "      <td>1</td>\n",
       "      <td>0</td>\n",
       "      <td>0</td>\n",
       "      <td>0</td>\n",
       "      <td>0</td>\n",
       "      <td>1</td>\n",
       "      <td>0</td>\n",
       "    </tr>\n",
       "    <tr>\n",
       "      <th>3</th>\n",
       "      <td>1</td>\n",
       "      <td>580.00</td>\n",
       "      <td>0</td>\n",
       "      <td>0</td>\n",
       "      <td>1</td>\n",
       "      <td>0</td>\n",
       "      <td>0</td>\n",
       "      <td>1</td>\n",
       "      <td>0</td>\n",
       "      <td>1</td>\n",
       "      <td>1</td>\n",
       "      <td>0</td>\n",
       "      <td>1</td>\n",
       "      <td>1</td>\n",
       "      <td>0</td>\n",
       "      <td>0</td>\n",
       "      <td>0</td>\n",
       "      <td>0</td>\n",
       "      <td>0</td>\n",
       "      <td>1</td>\n",
       "      <td>0</td>\n",
       "    </tr>\n",
       "    <tr>\n",
       "      <th>4</th>\n",
       "      <td>0</td>\n",
       "      <td>30.00</td>\n",
       "      <td>0</td>\n",
       "      <td>0</td>\n",
       "      <td>1</td>\n",
       "      <td>1</td>\n",
       "      <td>0</td>\n",
       "      <td>0</td>\n",
       "      <td>0</td>\n",
       "      <td>0</td>\n",
       "      <td>0</td>\n",
       "      <td>0</td>\n",
       "      <td>1</td>\n",
       "      <td>0</td>\n",
       "      <td>0</td>\n",
       "      <td>0</td>\n",
       "      <td>0</td>\n",
       "      <td>0</td>\n",
       "      <td>0</td>\n",
       "      <td>1</td>\n",
       "      <td>0</td>\n",
       "    </tr>\n",
       "    <tr>\n",
       "      <th>...</th>\n",
       "      <td>...</td>\n",
       "      <td>...</td>\n",
       "      <td>...</td>\n",
       "      <td>...</td>\n",
       "      <td>...</td>\n",
       "      <td>...</td>\n",
       "      <td>...</td>\n",
       "      <td>...</td>\n",
       "      <td>...</td>\n",
       "      <td>...</td>\n",
       "      <td>...</td>\n",
       "      <td>...</td>\n",
       "      <td>...</td>\n",
       "      <td>...</td>\n",
       "      <td>...</td>\n",
       "      <td>...</td>\n",
       "      <td>...</td>\n",
       "      <td>...</td>\n",
       "      <td>...</td>\n",
       "      <td>...</td>\n",
       "      <td>...</td>\n",
       "    </tr>\n",
       "    <tr>\n",
       "      <th>89995</th>\n",
       "      <td>0</td>\n",
       "      <td>68.00</td>\n",
       "      <td>0</td>\n",
       "      <td>0</td>\n",
       "      <td>1</td>\n",
       "      <td>1</td>\n",
       "      <td>0</td>\n",
       "      <td>0</td>\n",
       "      <td>0</td>\n",
       "      <td>0</td>\n",
       "      <td>1</td>\n",
       "      <td>0</td>\n",
       "      <td>1</td>\n",
       "      <td>0</td>\n",
       "      <td>1</td>\n",
       "      <td>0</td>\n",
       "      <td>0</td>\n",
       "      <td>0</td>\n",
       "      <td>0</td>\n",
       "      <td>1</td>\n",
       "      <td>0</td>\n",
       "    </tr>\n",
       "    <tr>\n",
       "      <th>89996</th>\n",
       "      <td>1</td>\n",
       "      <td>126.00</td>\n",
       "      <td>0</td>\n",
       "      <td>0</td>\n",
       "      <td>1</td>\n",
       "      <td>1</td>\n",
       "      <td>0</td>\n",
       "      <td>0</td>\n",
       "      <td>0</td>\n",
       "      <td>1</td>\n",
       "      <td>0</td>\n",
       "      <td>0</td>\n",
       "      <td>1</td>\n",
       "      <td>0</td>\n",
       "      <td>0</td>\n",
       "      <td>0</td>\n",
       "      <td>1</td>\n",
       "      <td>0</td>\n",
       "      <td>0</td>\n",
       "      <td>1</td>\n",
       "      <td>0</td>\n",
       "    </tr>\n",
       "    <tr>\n",
       "      <th>89997</th>\n",
       "      <td>1</td>\n",
       "      <td>300.00</td>\n",
       "      <td>0</td>\n",
       "      <td>0</td>\n",
       "      <td>1</td>\n",
       "      <td>1</td>\n",
       "      <td>0</td>\n",
       "      <td>0</td>\n",
       "      <td>0</td>\n",
       "      <td>1</td>\n",
       "      <td>0</td>\n",
       "      <td>0</td>\n",
       "      <td>1</td>\n",
       "      <td>1</td>\n",
       "      <td>0</td>\n",
       "      <td>0</td>\n",
       "      <td>0</td>\n",
       "      <td>0</td>\n",
       "      <td>0</td>\n",
       "      <td>1</td>\n",
       "      <td>0</td>\n",
       "    </tr>\n",
       "    <tr>\n",
       "      <th>89998</th>\n",
       "      <td>1</td>\n",
       "      <td>696.58</td>\n",
       "      <td>1</td>\n",
       "      <td>0</td>\n",
       "      <td>1</td>\n",
       "      <td>1</td>\n",
       "      <td>0</td>\n",
       "      <td>0</td>\n",
       "      <td>0</td>\n",
       "      <td>1</td>\n",
       "      <td>1</td>\n",
       "      <td>0</td>\n",
       "      <td>1</td>\n",
       "      <td>0</td>\n",
       "      <td>0</td>\n",
       "      <td>0</td>\n",
       "      <td>0</td>\n",
       "      <td>1</td>\n",
       "      <td>0</td>\n",
       "      <td>1</td>\n",
       "      <td>0</td>\n",
       "    </tr>\n",
       "    <tr>\n",
       "      <th>89999</th>\n",
       "      <td>0</td>\n",
       "      <td>470.00</td>\n",
       "      <td>0</td>\n",
       "      <td>0</td>\n",
       "      <td>1</td>\n",
       "      <td>0</td>\n",
       "      <td>1</td>\n",
       "      <td>0</td>\n",
       "      <td>0</td>\n",
       "      <td>0</td>\n",
       "      <td>0</td>\n",
       "      <td>0</td>\n",
       "      <td>1</td>\n",
       "      <td>0</td>\n",
       "      <td>0</td>\n",
       "      <td>0</td>\n",
       "      <td>0</td>\n",
       "      <td>0</td>\n",
       "      <td>0</td>\n",
       "      <td>1</td>\n",
       "      <td>0</td>\n",
       "    </tr>\n",
       "  </tbody>\n",
       "</table>\n",
       "<p>90000 rows × 21 columns</p>\n",
       "</div>"
      ],
      "text/plain": [
       "       condition    price  garantia  contacto_vendedor  compra_inmediata  \\\n",
       "0              1    80.00         0                  0                 1   \n",
       "1              0  2650.00         0                  0                 1   \n",
       "2              0    60.00         0                  0                 1   \n",
       "3              1   580.00         0                  0                 1   \n",
       "4              0    30.00         0                  0                 1   \n",
       "...          ...      ...       ...                ...               ...   \n",
       "89995          0    68.00         0                  0                 1   \n",
       "89996          1   126.00         0                  0                 1   \n",
       "89997          1   300.00         0                  0                 1   \n",
       "89998          1   696.58         1                  0                 1   \n",
       "89999          0   470.00         0                  0                 1   \n",
       "\n",
       "       listado_bronce  listado_gratis  listado_oro  etiqueta_de_calidad  \\\n",
       "0                   1               0            0                    0   \n",
       "1                   0               0            1                    0   \n",
       "2                   1               0            0                    0   \n",
       "3                   0               0            1                    0   \n",
       "4                   1               0            0                    0   \n",
       "...               ...             ...          ...                  ...   \n",
       "89995               1               0            0                    0   \n",
       "89996               1               0            0                    0   \n",
       "89997               1               0            0                    0   \n",
       "89998               1               0            0                    0   \n",
       "89999               0               1            0                    0   \n",
       "\n",
       "       categoria_del_producto  horario_de_creacion  tienda_oficial  \\\n",
       "0                           0                    1               0   \n",
       "1                           0                    1               0   \n",
       "2                           0                    0               0   \n",
       "3                           1                    1               0   \n",
       "4                           0                    0               0   \n",
       "...                       ...                  ...             ...   \n",
       "89995                       0                    1               0   \n",
       "89996                       1                    0               0   \n",
       "89997                       1                    0               0   \n",
       "89998                       1                    1               0   \n",
       "89999                       0                    0               0   \n",
       "\n",
       "       acepta_mercadopago  titulo_nuevo  titulo_usado  \\\n",
       "0                       1             1             0   \n",
       "1                       1             0             0   \n",
       "2                       1             0             1   \n",
       "3                       1             1             0   \n",
       "4                       1             0             0   \n",
       "...                   ...           ...           ...   \n",
       "89995                   1             0             1   \n",
       "89996                   1             0             0   \n",
       "89997                   1             1             0   \n",
       "89998                   1             0             0   \n",
       "89999                   1             0             0   \n",
       "\n",
       "       republicacion_automatica  estatus_pausado  disponibilidad_de_stock  \\\n",
       "0                             0                0                        0   \n",
       "1                             0                0                        0   \n",
       "2                             0                0                        0   \n",
       "3                             0                0                        0   \n",
       "4                             0                0                        0   \n",
       "...                         ...              ...                      ...   \n",
       "89995                         0                0                        0   \n",
       "89996                         0                1                        0   \n",
       "89997                         0                0                        0   \n",
       "89998                         0                0                        1   \n",
       "89999                         0                0                        0   \n",
       "\n",
       "       envio_gratis  tiene_descripcion  variaciones  \n",
       "0                 0                  1            0  \n",
       "1                 0                  1            0  \n",
       "2                 0                  1            0  \n",
       "3                 0                  1            0  \n",
       "4                 0                  1            0  \n",
       "...             ...                ...          ...  \n",
       "89995             0                  1            0  \n",
       "89996             0                  1            0  \n",
       "89997             0                  1            0  \n",
       "89998             0                  1            0  \n",
       "89999             0                  1            0  \n",
       "\n",
       "[90000 rows x 21 columns]"
      ]
     },
     "execution_count": 61,
     "metadata": {},
     "output_type": "execute_result"
    }
   ],
   "source": [
    "train = transformacion_datos(train_aux)\n",
    "test = transformacion_datos(test_aux)\n",
    "train\n"
   ]
  },
  {
   "cell_type": "markdown",
   "metadata": {},
   "source": [
    "# Métrica de evaluación"
   ]
  },
  {
   "cell_type": "markdown",
   "metadata": {},
   "source": [
    "## Justificación de la métrica para evaluación\n",
    "\n",
    "En este proyecto el objetivo es clasificar productos como **\"nuevos\" o \"usados\"**, **sin que exista una preferencia explícita por alguna de las dos clases**. Entonces nos interesa un modelo que equilibre correctamente los errores de tipo falso positivo y falso negativo, evitando favorecer injustamente una clase sobre otra.\n",
    "\n",
    "---\n",
    "\n",
    "### F1-score como métrica de evaluación\n",
    "\n",
    "El **F1-score** es la **media armónica** entre la **precisión** (qué tan bien predice correctamente la clase positiva) y el **recall** (qué tanto logra encontrar todos los positivos reales). En este caso es útil porque:\n",
    "\n",
    "- Ambas clases son **igualmente importantes**.\n",
    "- Deseamos **minimizar ambos tipos de errores** (falsos positivos y falsos negativos).\n",
    "\n",
    "El F1-score penaliza los modelos que tienen alta precisión pero bajo recall (o viceversa), ayudando a mantener un **rendimiento balanceado**.\n",
    "\n",
    "---\n",
    "\n",
    "### Comparación vs AUC-ROC\n",
    "\n",
    "| Métrica          | Limitación |\n",
    "|------------------|-----------------------------|\n",
    "| **AUC-ROC**      | Evalúa la capacidad global de discriminación del modelo, pero no se basa en un umbral específico de clasificación. Es útil para comparar modelos, pero no refleja rendimiento real en decisiones binarias. |\n",
    "\n",
    "---\n",
    "\n",
    "### Conclusión\n",
    "\n",
    "El **F1-score** es la mejor opción para esta tarea porque:\n",
    "\n",
    "- **Equilibra precisión y recall**.\n",
    "- Es **más informativo** que usar precisión o recall por separado.\n",
    "- Es **sensible a los errores en ambas clases**.\n",
    "- Refleja mejor el comportamiento del modelo **cuando se aplica un umbral de decisión fijo** en producción.\n"
   ]
  },
  {
   "cell_type": "markdown",
   "metadata": {},
   "source": [
    "# Creación de modelos"
   ]
  },
  {
   "cell_type": "markdown",
   "metadata": {},
   "source": [
    "En los siguientes bloques construyo y evalúo modelos de clasificación utilizando el algoritmo `XGBoost`.\n",
    "\n",
    "- Primero separo las variables predictoras y la variable objetivo tanto para el conjunto de entrenamiento como para el de prueba.\n",
    "- Defino varios hiperparámetros que serán evaluados mediante Grid Search.\n",
    "- Entreno el modelo utilizando validación cruzada y selecciono la mejor combinación de hiperparámetros.\n",
    "- Evalúo el rendimiento del modelo en los datos de prueba utilizando principalmente la métrica `F1-score` pero también revisando `AUC ROC`, `Recall` y `Precisión`"
   ]
  },
  {
   "cell_type": "code",
   "execution_count": 71,
   "metadata": {},
   "outputs": [
    {
     "name": "stdout",
     "output_type": "stream",
     "text": [
      "Fitting 5 folds for each of 32 candidates, totalling 160 fits\n",
      "Mejores hiperparámetros: {'colsample_bytree': 0.8, 'learning_rate': 0.12, 'max_depth': 5, 'n_estimators': 300, 'subsample': 0.7}\n",
      "Mejor AUC ROC (CV): 0.8638340986034552\n",
      "Mejor umbral: 0.41\n",
      "Mejor F1-score: 0.8674\n",
      "AUC ROC en test: 0.8530\n",
      "Recall en test: 0.8774\n",
      "Precision en test: 0.8577\n",
      "F1-score en test: 0.8674\n"
     ]
    }
   ],
   "source": [
    "# ------------------------------\n",
    "# Modelo 1: XGBoost tratando de maximizar F1-score\n",
    "# ------------------------------\n",
    "\n",
    "# ------------------------------\n",
    "# Separar features y target\n",
    "# ------------------------------\n",
    "X_train = train.drop(columns=['condition'])\n",
    "y_train = train['condition']\n",
    "\n",
    "X_test = test.drop(columns=['condition'])\n",
    "y_test = test['condition']\n",
    "\n",
    "# ------------------------------\n",
    "# Hiperparámetros a ajustar\n",
    "# ------------------------------\n",
    "param_grid = {\n",
    "    'n_estimators': [250, 300],\n",
    "    'max_depth': [4, 5],\n",
    "    'learning_rate': [0.12, 0.1],\n",
    "    'subsample': [0.6, 0.7],\n",
    "    'colsample_bytree': [0.8, 1],\n",
    "    #'min_child_weight': [5, 10]\n",
    "}\n",
    "\n",
    "# ------------------------------\n",
    "# Modelo base y búsqueda\n",
    "# ------------------------------\n",
    "xgb_model = XGBClassifier(\n",
    "    eval_metric='logloss',\n",
    "    random_state=42\n",
    ")\n",
    "\n",
    "grid_search = GridSearchCV(\n",
    "    estimator=xgb_model,\n",
    "    param_grid=param_grid,\n",
    "    #scoring='roc_auc',\n",
    "    scoring='f1',\n",
    "    cv=5,\n",
    "    verbose=1,\n",
    "    n_jobs=-1\n",
    ")\n",
    "\n",
    "# ------------------------------\n",
    "# Entrenar con CV y mejores parámetros\n",
    "# ------------------------------\n",
    "grid_search.fit(X_train, y_train)\n",
    "\n",
    "print(\"Mejores hiperparámetros:\", grid_search.best_params_)\n",
    "print(\"Mejor AUC ROC (CV):\", grid_search.best_score_)\n",
    "\n",
    "# ------------------------------\n",
    "# Evaluación en test\n",
    "# ------------------------------\n",
    "best_model_xgb = grid_search.best_estimator_\n",
    "y_pred_proba_xgb = best_model_xgb.predict_proba(X_test)[:, 1]\n",
    "y_pred_label_xgb = best_model_xgb.predict(X_test)  \n",
    "\n",
    "\n",
    "# Buscar el umbral que maximice F1\n",
    "thresholds = np.linspace(0.1, 0.9, 100)\n",
    "f1_scores = [f1_score(y_test, y_pred_proba_xgb > t) for t in thresholds]\n",
    "\n",
    "# Elegir mejor umbral\n",
    "best_threshold = thresholds[np.argmax(f1_scores)]\n",
    "best_f1 = max(f1_scores)\n",
    "\n",
    "print(f\"Mejor umbral: {best_threshold:.2f}\")\n",
    "print(f\"Mejor F1-score: {best_f1:.4f}\")\n",
    "\n",
    "# Predicción final con umbral óptimo\n",
    "y_pred_opt = (y_pred_proba_xgb > best_threshold).astype(int)\n",
    "\n",
    "\n",
    "auc_test = roc_auc_score(y_test, y_pred_opt)\n",
    "recall_test = recall_score(y_test, y_pred_opt)\n",
    "precision_test = precision_score(y_test, y_pred_opt)\n",
    "f1_test = f1_score(y_test, y_pred_opt)\n",
    "\n",
    "\n",
    "print(f\"AUC ROC en test: {auc_test:.4f}\")\n",
    "print(f\"Recall en test: {recall_test:.4f}\")\n",
    "print(f\"Precision en test: {precision_test:.4f}\")\n",
    "print(f\"F1-score en test: {f1_test:.4f}\")"
   ]
  },
  {
   "cell_type": "code",
   "execution_count": 65,
   "metadata": {},
   "outputs": [
    {
     "name": "stdout",
     "output_type": "stream",
     "text": [
      "Fitting 5 folds for each of 32 candidates, totalling 160 fits\n",
      "Mejores hiperparámetros: {'colsample_bytree': 0.9, 'learning_rate': 0.07, 'max_depth': 5, 'n_estimators': 400, 'subsample': 0.8}\n",
      "Mejor AUC ROC (CV): 0.9354988805290396\n",
      "AUC ROC en test: 0.9360\n",
      "Recall en test: 0.8357\n",
      "Precision en test: 0.8948\n",
      "F1-score en test: 0.8643\n"
     ]
    }
   ],
   "source": [
    "# ------------------------------\n",
    "# Modelo 2: XGBoost tratando de maximizar AUC ROC\n",
    "# ------------------------------\n",
    "\n",
    "# ------------------------------\n",
    "# Separar features y target\n",
    "# ------------------------------\n",
    "X_train = train.drop(columns=['condition'])\n",
    "y_train = train['condition']\n",
    "\n",
    "X_test = test.drop(columns=['condition'])\n",
    "y_test = test['condition']\n",
    "\n",
    "# ------------------------------\n",
    "# Hiperparámetros a ajustar\n",
    "# ------------------------------\n",
    "param_grid = {\n",
    "    'n_estimators': [300, 400],\n",
    "    'max_depth': [5, 7],\n",
    "    'learning_rate': [0.07, 0.1],\n",
    "    'subsample': [0.7, 0.8],\n",
    "    'colsample_bytree': [0.8, 0.9],\n",
    "    #'min_child_weight': [5, 10]\n",
    "}\n",
    "\n",
    "# ------------------------------\n",
    "# Modelo base y búsqueda\n",
    "# ------------------------------\n",
    "xgb_model = XGBClassifier(\n",
    "    #use_label_encoder=False,\n",
    "    eval_metric='logloss',\n",
    "    random_state=42\n",
    ")\n",
    "\n",
    "grid_search = GridSearchCV(\n",
    "    estimator=xgb_model,\n",
    "    param_grid=param_grid,\n",
    "    scoring='roc_auc',\n",
    "    #scoring='f1',\n",
    "    cv=5,\n",
    "    verbose=1,\n",
    "    n_jobs=-1\n",
    ")\n",
    "\n",
    "# ------------------------------\n",
    "# Entrenar con CV y mejores parámetros\n",
    "# ------------------------------\n",
    "grid_search.fit(X_train, y_train)\n",
    "\n",
    "print(\"Mejores hiperparámetros:\", grid_search.best_params_)\n",
    "print(\"Mejor AUC ROC (CV):\", grid_search.best_score_)\n",
    "\n",
    "# ------------------------------\n",
    "# Evaluación en test\n",
    "# ------------------------------\n",
    "best_model_xgb2 = grid_search.best_estimator_\n",
    "y_pred_proba_xgb2 = best_model_xgb2.predict_proba(X_test)[:, 1]\n",
    "y_pred_label_xgb2 = best_model_xgb2.predict(X_test)  \n",
    "\n",
    "auc_test = roc_auc_score(y_test, y_pred_proba_xgb2)\n",
    "recall_test = recall_score(y_test, y_pred_label_xgb2)\n",
    "precision_test = precision_score(y_test, y_pred_label_xgb2)\n",
    "f1_test = f1_score(y_test, y_pred_label_xgb2)\n",
    "\n",
    "\n",
    "print(f\"AUC ROC en test: {auc_test:.4f}\")\n",
    "print(f\"Recall en test: {recall_test:.4f}\")\n",
    "print(f\"Precision en test: {precision_test:.4f}\")\n",
    "print(f\"F1-score en test: {f1_test:.4f}\")"
   ]
  },
  {
   "cell_type": "markdown",
   "metadata": {},
   "source": [
    "## Comparativa de modelos\n",
    "\n",
    "| Aspecto                    | Modelo 1                          | Modelo 2                          |\n",
    "|---------------------------|-----------------------------------|-----------------------------------|\n",
    "| **n_estimators**          | 300                               | 400                               |\n",
    "| **max_depth**             | 5                                 | 5                                 |\n",
    "| **learning_rate**         | 0.12                              | 0.07                              |\n",
    "| **subsample**             | 0.7                               | 0.8                               |\n",
    "| **colsample_bytree**      | 0.8                               | 0.9                               |\n",
    "| **Mejor AUC ROC (CV)**    | 0.8638                            | 0.9355                            |\n",
    "| **AUC ROC (test)**        | 0.8530                            | 0.9360                            |\n",
    "| **Recall (test)**         | 0.8774                            | 0.8357                            |\n",
    "| **Precisión (test)**      | 0.8577                            | 0.8948                            |\n",
    "| **F1-score (test)**       | 0.8674                            | 0.8643                            |\n",
    "| **Umbral ajustado**       | Sí (0.41)                         | No                                |\n",
    "\n",
    "---\n",
    "\n",
    "## Análisis\n",
    "\n",
    "- **Modelo 2** tiene un **AUC ROC** superior tanto en validación cruzada como en test, lo que indica una mayor capacidad de discriminación general entre clases.\n",
    "- **Modelo 1**, a pesar de tener menor AUC, logra el **mejor F1-score** (0.8674 vs 0.8643), lo cual es clave si deseamos **equilibrar precisión y recall sin preferencia por una clase**.\n",
    "- **Modelo 1 utiliza un umbral optimizado** (0.41), lo que indica una estrategia más adaptada al objetivo final.\n",
    "- **Modelo 2** muestra una muy pequeña diferencia entre AUC en CV y test (0.9355 vs 0.9360), pero su alta complejidad (más árboles, mayor colsample) puede **aumentar riesgo de overfitting**.\n",
    "- **Modelo 1**, con menos árboles y menor subsample, es más simple y puede tener **mejor capacidad de generalización**.\n",
    "\n",
    "---\n",
    "\n",
    "## Conclusión\n",
    "\n",
    "**El Modelo 1 es preferible** si el objetivo principal es **maximizar el F1-score**. Este modelo:\n",
    "- Ajusta el umbral para lograr mejor balance.\n",
    "- Presenta equilibrio entre **precision** y **recall**.\n",
    "- Tiene menor riesgo de **overfitting**.\n",
    "- Obtiene el **mejor F1 en test (0.8674)**, que es la métrica más coherente con el objetivo del negocio.\n",
    "\n",
    "---\n",
    "\n"
   ]
  },
  {
   "cell_type": "code",
   "execution_count": 72,
   "metadata": {},
   "outputs": [
    {
     "data": {
      "image/png": "[encoded data removed]",
      "text/plain": [
       "<Figure size 1000x800 with 1 Axes>"
      ]
     },
     "metadata": {},
     "output_type": "display_data"
    }
   ],
   "source": [
    "importances = best_model_xgb.feature_importances_\n",
    "features = X_train.columns\n",
    "sorted_idx = importances.argsort()[::-1]\n",
    "\n",
    "plt.figure(figsize=(10, 8))\n",
    "sns.barplot(x=importances[sorted_idx], y=features[sorted_idx])\n",
    "plt.title(\"Importancia de variables - XGBoost Modelo 1\")\n",
    "plt.show()\n"
   ]
  },
  {
   "cell_type": "code",
   "execution_count": 73,
   "metadata": {},
   "outputs": [
    {
     "data": {
      "image/png": "[encoded data removed]",
      "text/plain": [
       "<Figure size 800x950 with 2 Axes>"
      ]
     },
     "metadata": {},
     "output_type": "display_data"
    }
   ],
   "source": [
    "import shap\n",
    "\n",
    "explainer = shap.TreeExplainer(best_model_xgb)\n",
    "shap_values = explainer.shap_values(X_train)\n",
    "\n",
    "shap.summary_plot(shap_values, X_train)\n"
   ]
  },
  {
   "cell_type": "markdown",
   "metadata": {},
   "source": [
    "# Análisis de Importancia de Variables\n",
    "\n",
    "## Variables más importantes\n",
    "\n",
    "Las siguientes variables tienen alta relevancia tanto en ganancia como en los valores SHAP:\n",
    "\n",
    "| Variable                  | Interpretación                                                                 |\n",
    "|---------------------------|-------------------------------------------------------------------------------|\n",
    "| `disponibilidad_de_stock` | Es la variable más influyente. Cuando en el stock hay más de un producto hay alta proba de que sea nuevo. |\n",
    "| `listado_gratis`          | Tiene fuerte peso y alto impacto SHAP. Cuando esta en listado free es altamente probable que el producto no sea nuevo. |\n",
    "| `categoria_del_producto`  | Alta relevancia, probablemente debido a que algunas categorías estan asociadas hacia productos nuevos. |\n",
    "\n",
    "---\n",
    "\n",
    "## Variables con baja relevancia (candidatas a eliminar)\n",
    "\n",
    "Estas variables muestran baja o nula contribución al modelo:\n",
    "\n",
    "| Variable                | Justificación                                                   |\n",
    "|-------------------------|------------------------------------------------------------------|\n",
    "| `etiqueta_de_calidad`   | No aporta ni ganancia ni impacto explicativo.                   |\n",
    "| `acepta_mercadopago`    | Mínima influencia en ambas gráficas.                            |\n",
    "| `tienda_oficial`        | Relevancia cercana a cero.                                      |\n",
    "| `tiene_descripcion`     | No se observa diferencia clara en el output del modelo.         |\n",
    "| `estatus_pausado`       | Sin aporte significativo.                                       |\n",
    "| `variaciones`           | Bajo impacto; podría ser redundante.                            |\n",
    "\n",
    "---\n",
    "\n",
    "## Variables de impacto intermedio\n",
    "\n",
    "Estas variables no lideran la importancia pero sí aportan valor explicativo:\n",
    "\n",
    "| Variable           | Comentario                                                |\n",
    "|--------------------|-----------------------------------------------------------|\n",
    "| `garantia`         | Su impacto es moderado en SHAP, relevante para interpretabilidad. |\n",
    "| `price`            | Valor útil, especialmente en combinación con otras variables.     |\n",
    "| `titulo_usado` / `titulo_nuevo` | Extraídas del texto, ayudan a entender el contexto del producto. |\n"
   ]
  },
  {
   "cell_type": "markdown",
   "metadata": {},
   "source": [
    "# Eliminación de variables"
   ]
  },
  {
   "cell_type": "code",
   "execution_count": 75,
   "metadata": {},
   "outputs": [],
   "source": [
    "# eleiminar variables que no aportan\n",
    "train_v2 = train.drop(['etiqueta_de_calidad',\n",
    "                       'acepta_mercadopago',\n",
    "                       'tienda_oficial',\n",
    "                       'tiene_descripcion',\n",
    "                       'estatus_pausado',\n",
    "                       'variaciones'\n",
    "                       ], axis=1)\n",
    "\n",
    "test_v2 = test.drop(['etiqueta_de_calidad',\n",
    "                       'acepta_mercadopago',\n",
    "                       'tienda_oficial',\n",
    "                       'tiene_descripcion',\n",
    "                       'estatus_pausado',\n",
    "                       'variaciones'\n",
    "                       ], axis=1)"
   ]
  },
  {
   "cell_type": "code",
   "execution_count": 77,
   "metadata": {},
   "outputs": [
    {
     "name": "stdout",
     "output_type": "stream",
     "text": [
      "AUC ROC en test: 0.8511\n",
      "Recall en test: 0.8690\n",
      "Precision en test: 0.8598\n",
      "F1-score en test: 0.8644\n"
     ]
    }
   ],
   "source": [
    "\n",
    "X_train_v2 = train_v2.drop(columns=['condition'])\n",
    "y_train_v2 = train_v2['condition']\n",
    "\n",
    "X_test_v2 = test_v2.drop(columns=['condition'])\n",
    "y_test_v2 = test_v2['condition']\n",
    "\n",
    "# ------------------------------\n",
    "# Modelo base y búsqueda\n",
    "# ------------------------------\n",
    "xgb_model_v2 = XGBClassifier(\n",
    "    eval_metric='logloss',\n",
    "    colsample_bytree=0.8,\n",
    "    learning_rate=0.12,\n",
    "    max_depth=5,\n",
    "    n_estimators=300,\n",
    "    subsample=0.7,\n",
    "    random_state=42\n",
    ")\n",
    "\n",
    "xgb_model_v2.fit(X_train_v2, y_train_v2)\n",
    "y_pred_proba_xgb_v2 = xgb_model_v2.predict_proba(X_test_v2)[:, 1]\n",
    "y_pred_label_xgb_v2 = xgb_model_v2.predict(X_test_v2)  \n",
    "\n",
    "# Predicción final con umbral óptimo\n",
    "y_pred_opt_v2 = (y_pred_proba_xgb_v2 > 0.41).astype(int)\n",
    "\n",
    "auc_test_v2 = roc_auc_score(y_test_v2, y_pred_opt_v2)\n",
    "recall_test_v2 = recall_score(y_test_v2, y_pred_opt_v2)\n",
    "precision_test_v2 = precision_score(y_test_v2, y_pred_opt_v2)\n",
    "f1_test_v2 = f1_score(y_test_v2, y_pred_opt_v2)\n",
    "\n",
    "\n",
    "print(f\"AUC ROC en test: {auc_test_v2:.4f}\")\n",
    "print(f\"Recall en test: {recall_test_v2:.4f}\")\n",
    "print(f\"Precision en test: {precision_test_v2:.4f}\")\n",
    "print(f\"F1-score en test: {f1_test_v2:.4f}\")"
   ]
  },
  {
   "cell_type": "markdown",
   "metadata": {},
   "source": [
    "## Conclusiones tras eliminar variables con baja importancia\n",
    "\n",
    "Se eliminaron 6 variables del conjunto de entrenamiento que presentaban una baja contribución:\n",
    "\n",
    "- `etiqueta_de_calidad`  \n",
    "- `acepta_mercadopago`  \n",
    "- `tienda_oficial`  \n",
    "- `tiene_descripcion`  \n",
    "- `estatus_pausado`  \n",
    "- `variaciones`\n",
    "\n",
    "---\n",
    "\n",
    "### Resultados de métricas antes y después\n",
    "\n",
    "| Métrica       | Antes     | Después   | Variación |\n",
    "|---------------|-----------|-----------|-----------|\n",
    "| AUC ROC       | 0.8530    | 0.8511    | -0.0019   |\n",
    "| Recall        | 0.8774    | 0.8690    | -0.0084   |\n",
    "| Precisión     | 0.8577    | 0.8598    | +0.0021   |\n",
    "| F1-score      | 0.8674    | 0.8644    | -0.0030   |\n",
    "\n",
    "---\n",
    "\n",
    "### Conclusiones\n",
    "\n",
    "- Las métricas del modelo se mantuvieron prácticamente **sin cambios** después de eliminar estas 6 variables, lo que **confirma que su contribución al desempeño era marginal o nula**.\n",
    "- Esta simplificación **mejora la interpretabilidad** y reduce el riesgo de sobreajuste al eliminar ruido innecesario.\n",
    "\n",
    "---\n",
    "\n",
    "### Recomendación\n",
    "\n",
    "Continuar con esta versión optimizada del modelo, ya que se logra un equilibrio entre rendimiento y simplicidad.\n"
   ]
  },
  {
   "cell_type": "markdown",
   "metadata": {},
   "source": [
    "# Guardado del modelo"
   ]
  },
  {
   "cell_type": "code",
   "execution_count": 78,
   "metadata": {},
   "outputs": [
    {
     "data": {
      "text/plain": [
       "['../models/modelo_xgb_v2.pkl']"
      ]
     },
     "execution_count": 78,
     "metadata": {},
     "output_type": "execute_result"
    }
   ],
   "source": [
    "# Guardar modelo\n",
    "import joblib\n",
    "joblib.dump(xgb_model_v2, '../models/modelo_xgb_v2.pkl')"
   ]
  },
  {
   "cell_type": "code",
   "execution_count": 79,
   "metadata": {},
   "outputs": [],
   "source": [
    "X_test_v2.to_csv('../data/X_test_v2.csv', index=False)\n",
    "y_test_v2.to_csv('../data/y_test_v2.csv', index=False)"
   ]
  },
  {
   "cell_type": "markdown",
   "metadata": {},
   "source": [
    "# Comentarios adicionales"
   ]
  },
  {
   "cell_type": "markdown",
   "metadata": {},
   "source": [
    "También probé modelos con el algoritmo **Random Forest**. Mi idea era realizar un ensamble con el modelo **XGBoost**, pero al momento de hacerlo realmente no obtuve ninguna ganancia. Por ello, para no hacer más compleja la estructura de predicción, decidí quedarme únicamente con el modelo **XGBoost**, como expliqué en la parte de arriba.\n"
   ]
  }
 ],
 "metadata": {
  "kernelspec": {
   "display_name": "Python 3",
   "language": "python",
   "name": "python3"
  },
  "language_info": {
   "codemirror_mode": {
    "name": "ipython",
    "version": 3
   },
   "file_extension": ".py",
   "mimetype": "text/x-python",
   "name": "python",
   "nbconvert_exporter": "python",
   "pygments_lexer": "ipython3",
   "version": "3.12.2"
  }
 },
 "nbformat": 4,
 "nbformat_minor": 2
}
